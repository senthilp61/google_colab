{
  "nbformat": 4,
  "nbformat_minor": 0,
  "metadata": {
    "colab": {
      "provenance": [],
      "authorship_tag": "ABX9TyPekCL4R72ZYFCVDXXue63c",
      "include_colab_link": true
    },
    "kernelspec": {
      "name": "python3",
      "display_name": "Python 3"
    },
    "language_info": {
      "name": "python"
    }
  },
  "cells": [
    {
      "cell_type": "markdown",
      "metadata": {
        "id": "view-in-github",
        "colab_type": "text"
      },
      "source": [
        "<a href=\"https://colab.research.google.com/github/senthilp61/google_colab/blob/main/Array_and_Matrix.ipynb\" target=\"_parent\"><img src=\"https://colab.research.google.com/assets/colab-badge.svg\" alt=\"Open In Colab\"/></a>"
      ]
    },
    {
      "cell_type": "markdown",
      "source": [
        "# Array and Matrix [Arrays and Matrices will be introduced by the professor in the following lectures, so let's have a quick look!]\n",
        "\n",
        "**Array** - An array is a special variable that can hold more than one value at a time. Both the list and array look similar by one major difference is that ana array is optimized for arithmetic computations.\n",
        "\n",
        "Syntax - **arr = np.array([1,2,3])**\n",
        "\n",
        "\n",
        "**Matrix** - A Matrix is a 2-Dimensional array. It has both rows and columns. The horizontal arrangement of data is known as **row** and the vertical arrangement of data is known as column.\n",
        "\n",
        "Syntax - **mat = np.array([[1, 2, 3, 1], [4, 5, 6, 4], [7, 8, 9, 7]])**\n",
        "\n",
        "The above code will create a matrix (mat) with 3 rows and 4 columns"
      ],
      "metadata": {
        "id": "f_j4uT50Ymtg"
      }
    },
    {
      "cell_type": "code",
      "source": [
        "# The first step of using numpy is to tell python to import it\n",
        "import numpy as np"
      ],
      "metadata": {
        "id": "xYrY97TFbaq6"
      },
      "execution_count": null,
      "outputs": []
    },
    {
      "cell_type": "code",
      "execution_count": null,
      "metadata": {
        "colab": {
          "base_uri": "https://localhost:8080/"
        },
        "id": "7QjKy63xYfV3",
        "outputId": "7ea80af5-7315-47f6-9333-10b7fec1242b"
      },
      "outputs": [
        {
          "output_type": "execute_result",
          "data": {
            "text/plain": [
              "array([1, 2, 3])"
            ]
          },
          "metadata": {},
          "execution_count": 3
        }
      ],
      "source": [
        "arr = np.array([1,2,3])\n",
        "arr"
      ]
    },
    {
      "cell_type": "code",
      "source": [
        "mat = np.array([[1,2,3,1],[4,5,6,4],[7,8,9,7]])\n",
        "mat"
      ],
      "metadata": {
        "colab": {
          "base_uri": "https://localhost:8080/"
        },
        "id": "alQ9a5GMa2bU",
        "outputId": "45316235-a0b5-48fd-a83c-edb185825e3b"
      },
      "execution_count": null,
      "outputs": [
        {
          "output_type": "execute_result",
          "data": {
            "text/plain": [
              "array([[1, 2, 3, 1],\n",
              "       [4, 5, 6, 4],\n",
              "       [7, 8, 9, 7]])"
            ]
          },
          "metadata": {},
          "execution_count": 4
        }
      ]
    },
    {
      "cell_type": "markdown",
      "source": [
        "## 2.1 NumPy Arrays\n",
        "\n",
        "**NumPy Array**\n",
        "*   An array is a data structure that stores values of same data type.\n",
        "*   While python lists can contain values corresponding to different data types, arrays in python can only contain values corresponding to the same data type.\n",
        "*   However python lists fail to deliver the performance required while computing large sets of numerical data. To address this issue we use NumPy arrays.\n",
        "*   We can create NumPy arrays by converting a list to an array.\n",
        "\n",
        "\n",
        "\n"
      ],
      "metadata": {
        "id": "Ijj2PxfJYk8Z"
      }
    },
    {
      "cell_type": "code",
      "source": [
        "# defining a list of different car companies or string elements\n",
        "arr_str = ['Mercedes', 'BMW', 'Audi', 'Ferrari', 'Tesla']\n",
        "\n",
        "#defining a list of number of cylinders in car or numerical elements\n",
        "arr_num = [5, 4, 6, 7, 3]"
      ],
      "metadata": {
        "id": "ORlsi7ZpdGbP"
      },
      "execution_count": null,
      "outputs": []
    },
    {
      "cell_type": "code",
      "source": [
        "#converting the list arr_str to a NumPy array\n",
        "np_arr_str = np.array(arr_str)\n",
        "\n",
        "#converting the list arr_num to a NumPy array\n",
        "np_arr_num = np.array(arr_num)\n",
        "\n",
        "# checking the output\n",
        "print(\"NumPy Array (arr_str): \", np_arr_str)\n",
        "print(\"NumPy Array (arr_num):\", np_arr_num)"
      ],
      "metadata": {
        "colab": {
          "base_uri": "https://localhost:8080/"
        },
        "id": "056ZtCzLdkrM",
        "outputId": "a98f1a88-c6ee-4234-c14a-5b8b0561e66a"
      },
      "execution_count": null,
      "outputs": [
        {
          "output_type": "stream",
          "name": "stdout",
          "text": [
            "NumPy Array (arr_str):  ['Mercedes' 'BMW' 'Audi' 'Ferrari' 'Tesla']\n",
            "NumPy Array (arr_num): [5 4 6 7 3]\n"
          ]
        }
      ]
    },
    {
      "cell_type": "markdown",
      "source": [
        "The result look similar to a list but arr_str and arr_num have been converted to NumPy arrays. Let's check the data type to confirm this."
      ],
      "metadata": {
        "id": "2i0Dz8a9eqXA"
      }
    },
    {
      "cell_type": "code",
      "source": [
        "# printing the data type of lists\n",
        "print(\"Data type of arr_str: \", type(arr_str))\n",
        "print(\"Data type of arr_num: \", type(arr_num))\n",
        "\n",
        "# printing the data types after conversion of lists to array\n",
        "print(\"Data type of np_arr_str: \", type(np_arr_str))\n",
        "print(\"Data type of np_arr_str: \", type(np_arr_num))"
      ],
      "metadata": {
        "colab": {
          "base_uri": "https://localhost:8080/"
        },
        "id": "hbkQ08FceRXw",
        "outputId": "e545e0b5-8813-4955-9296-7c71c022ea7c"
      },
      "execution_count": null,
      "outputs": [
        {
          "output_type": "stream",
          "name": "stdout",
          "text": [
            "Data type of arr_str:  <class 'list'>\n",
            "Data type of arr_num:  <class 'list'>\n",
            "Data type of np_arr_str:  <class 'numpy.ndarray'>\n",
            "Data type of np_arr_str:  <class 'numpy.ndarray'>\n"
          ]
        }
      ]
    },
    {
      "cell_type": "markdown",
      "source": [
        "\n",
        "\n",
        "*   The above output confirms that both the lists were successfully converted to arrays\n",
        "\n",
        "**NumPy Matrix**\n",
        "\n",
        "\n",
        "*   A matrix is a two-dimensional data structure where elements are arranged into rows and columns.\n",
        "*   A matrix can be created by using list of lists\n",
        "\n",
        "\n",
        "\n"
      ],
      "metadata": {
        "id": "LnFBU11Bf7gF"
      }
    },
    {
      "cell_type": "code",
      "source": [
        "# matrix\n",
        "\n",
        "mat = np.array([[1, 2, 3], [4, 5, 6], [7, 8, 9]])\n",
        "print(\"Data type of matrix: \", type(mat))\n",
        "mat"
      ],
      "metadata": {
        "colab": {
          "base_uri": "https://localhost:8080/"
        },
        "id": "nCZx1LHsfqA_",
        "outputId": "77096142-720f-4837-d65d-410fa1310e74"
      },
      "execution_count": null,
      "outputs": [
        {
          "output_type": "stream",
          "name": "stdout",
          "text": [
            "Data type of matrix:  <class 'numpy.ndarray'>\n"
          ]
        },
        {
          "output_type": "execute_result",
          "data": {
            "text/plain": [
              "array([[1, 2, 3],\n",
              "       [4, 5, 6],\n",
              "       [7, 8, 9]])"
            ]
          },
          "metadata": {},
          "execution_count": 14
        }
      ]
    },
    {
      "cell_type": "markdown",
      "source": [
        "\n",
        "\n",
        "*   We see that all the NumPy objects have data type as ndarray\n",
        "\n"
      ],
      "metadata": {
        "id": "D8eE3aMdjZLg"
      }
    },
    {
      "cell_type": "markdown",
      "source": [
        "## 2.2 NumPy Functions\n",
        "\n",
        "**There are different ways to create NumPy arrays using the functions available in NumPy library**\n",
        "\n",
        "**Using np.arange() function**\n",
        "\n",
        "\n",
        "*   The np.arange() function returns an array with evenly spaced elements as per the interval. The interval mentioned is half-opened i.e. start is included but stop is excluded.\n",
        "*   It has the following parameters:\n",
        "\n",
        "\n",
        "*   **start**: start of interval range. By default start = 0\n",
        "*   **stop**: end of interval range\n",
        "\n",
        "\n",
        "*   **step**: step size of interval. By default step size = 1\n",
        "\n",
        "\n",
        "\n",
        "\n",
        "\n"
      ],
      "metadata": {
        "id": "aO1qZ1k_jkLM"
      }
    },
    {
      "cell_type": "code",
      "source": [
        "arr2 = np.arange(start=0, stop=10) # 10 will be excluded from the output\n",
        "print(arr2)\n",
        "\n",
        "# or\n",
        "\n",
        "arr2 = np.arange(0,10)\n",
        "print(arr2)"
      ],
      "metadata": {
        "colab": {
          "base_uri": "https://localhost:8080/"
        },
        "id": "yHk9K-2Hi0DW",
        "outputId": "17b19761-d523-4bfc-a6d5-5a4866faa908"
      },
      "execution_count": null,
      "outputs": [
        {
          "output_type": "stream",
          "name": "stdout",
          "text": [
            "[0 1 2 3 4 5 6 7 8 9]\n",
            "[0 1 2 3 4 5 6 7 8 9]\n"
          ]
        }
      ]
    },
    {
      "cell_type": "code",
      "source": [
        "# adding a step size of 5 to create an array\n",
        "arr3 = np.arange(start = 0, stop = 20, step = 5)\n",
        "arr3"
      ],
      "metadata": {
        "colab": {
          "base_uri": "https://localhost:8080/"
        },
        "id": "g0hrpAFZvWUr",
        "outputId": "59ea0621-987e-45cf-a9bc-3cd87cff73db"
      },
      "execution_count": null,
      "outputs": [
        {
          "output_type": "execute_result",
          "data": {
            "text/plain": [
              "array([ 0,  5, 10, 15])"
            ]
          },
          "metadata": {},
          "execution_count": 17
        }
      ]
    },
    {
      "cell_type": "markdown",
      "source": [
        "**Using np.linspace() function**\n",
        "\n",
        "\n",
        "*   The np.linspace() function returns numbers which are evenly distributed with respect to interval. Here the start and stop both are included.\n",
        "*   It has the following parameters:\n",
        "\n",
        "\n",
        "*   start: start of interval range. By default start = 0\n",
        "*   stop: end of interval range.\n",
        "\n",
        "\n",
        "*   num: No. of samples to generate. By default num = 50\n",
        "\n",
        "\n",
        "\n",
        "\n",
        "\n"
      ],
      "metadata": {
        "id": "eBTSwu8ov3-I"
      }
    },
    {
      "cell_type": "code",
      "source": [
        "arr4 = np.linspace(start=0, stop=10, num=5, endpoint=False) # default num=50 & endpoint=True\n",
        "arr4\n",
        "\n",
        "# or\n",
        "\n",
        "arr4 = np.linspace(0,10,5, endpoint=False)\n",
        "arr4\n",
        "\n",
        "arr5 = np.linspace(0,10)\n",
        "arr5"
      ],
      "metadata": {
        "colab": {
          "base_uri": "https://localhost:8080/"
        },
        "id": "kCFz9aT0vv_7",
        "outputId": "a32256a6-f624-4be2-c412-5c0730bd405e"
      },
      "execution_count": null,
      "outputs": [
        {
          "output_type": "execute_result",
          "data": {
            "text/plain": [
              "array([ 0.        ,  0.20408163,  0.40816327,  0.6122449 ,  0.81632653,\n",
              "        1.02040816,  1.2244898 ,  1.42857143,  1.63265306,  1.83673469,\n",
              "        2.04081633,  2.24489796,  2.44897959,  2.65306122,  2.85714286,\n",
              "        3.06122449,  3.26530612,  3.46938776,  3.67346939,  3.87755102,\n",
              "        4.08163265,  4.28571429,  4.48979592,  4.69387755,  4.89795918,\n",
              "        5.10204082,  5.30612245,  5.51020408,  5.71428571,  5.91836735,\n",
              "        6.12244898,  6.32653061,  6.53061224,  6.73469388,  6.93877551,\n",
              "        7.14285714,  7.34693878,  7.55102041,  7.75510204,  7.95918367,\n",
              "        8.16326531,  8.36734694,  8.57142857,  8.7755102 ,  8.97959184,\n",
              "        9.18367347,  9.3877551 ,  9.59183673,  9.79591837, 10.        ])"
            ]
          },
          "metadata": {},
          "execution_count": 26
        }
      ]
    },
    {
      "cell_type": "markdown",
      "source": [
        "**How are these values getting generated?**\n",
        "\n",
        "The step size or the difference between each element will be decidied by the following formula:\n",
        "\n",
        "**(stop-start)/ (total elements -1)**\n",
        "\n",
        "So, in this case: (5-0) / 49 = 0.10204082\n",
        "\n",
        "The first value will be 0.10204082, the second value will be 0.10204082 + 0.10204082 and so on."
      ],
      "metadata": {
        "id": "UU9zcrMy2Clf"
      }
    },
    {
      "cell_type": "code",
      "source": [
        "# generating 10 evenly spaced values between 10 and 20\n",
        "matrix3 = np.linspace(10,20,10)\n",
        "matrix3"
      ],
      "metadata": {
        "colab": {
          "base_uri": "https://localhost:8080/"
        },
        "id": "YH_FyNlqwKMj",
        "outputId": "609122bd-ceb0-4586-b8ab-98c84bd262c1"
      },
      "execution_count": null,
      "outputs": [
        {
          "output_type": "execute_result",
          "data": {
            "text/plain": [
              "array([10.        , 11.11111111, 12.22222222, 13.33333333, 14.44444444,\n",
              "       15.55555556, 16.66666667, 17.77777778, 18.88888889, 20.        ])"
            ]
          },
          "metadata": {},
          "execution_count": 27
        }
      ]
    },
    {
      "cell_type": "markdown",
      "source": [
        "**Similarly we can create matrices using the functions available in NumPy library**\n",
        "\n",
        "**Using np.zeros()**\n",
        "\n",
        "\n",
        "*   The np.zeros() is a function for creating a matrix and performing matrix operations in NumPy.\n",
        "*   It returns a matrix filled with zeros of the given shape.\n",
        "\n",
        "\n",
        "*   It has the following parameters:\n",
        "*   **shape**: Number of rows and columns in the output matrix.\n",
        "\n",
        "\n",
        "*   **dtype**: data type of the elements in the matrix, by default the value is set to float.\n",
        "\n",
        "\n",
        "\n",
        "\n",
        "\n"
      ],
      "metadata": {
        "id": "FAr0dSx84QAg"
      }
    },
    {
      "cell_type": "code",
      "source": [
        "matrix5 = np.zeros([3,5])\n",
        "matrix5"
      ],
      "metadata": {
        "colab": {
          "base_uri": "https://localhost:8080/"
        },
        "id": "GLkz8FzZ4NkI",
        "outputId": "e8555eb1-c96e-42c5-b292-ad10a3cf09d7"
      },
      "execution_count": null,
      "outputs": [
        {
          "output_type": "execute_result",
          "data": {
            "text/plain": [
              "array([[0., 0., 0., 0., 0.],\n",
              "       [0., 0., 0., 0., 0.],\n",
              "       [0., 0., 0., 0., 0.]])"
            ]
          },
          "metadata": {},
          "execution_count": 28
        }
      ]
    },
    {
      "cell_type": "markdown",
      "source": [
        "Using np.ones()\n",
        "*   The np.ones() is another function for creating a matrix and performing matrix operations in NumPy\n",
        "*   It returns a matrix of given shape and type, filled with ones.\n",
        "\n",
        "\n",
        "*   It has the following parameters:\n",
        "*   **shape**: Number of rows and columns in the output matrix.\n",
        "\n",
        "\n",
        "*   **dtype**: data type of the elements in the matrix, by default the value is set to float.\n",
        "\n",
        "\n",
        "\n",
        "\n",
        "\n"
      ],
      "metadata": {
        "id": "11KvV2ZA60t4"
      }
    },
    {
      "cell_type": "code",
      "source": [
        "matrix6 = np.ones([3,5])\n",
        "matrix6"
      ],
      "metadata": {
        "colab": {
          "base_uri": "https://localhost:8080/"
        },
        "id": "NJb3L7kF6y1X",
        "outputId": "2d311449-1563-4538-d0bc-1b4db34abd76"
      },
      "execution_count": null,
      "outputs": [
        {
          "output_type": "execute_result",
          "data": {
            "text/plain": [
              "array([[1., 1., 1., 1., 1.],\n",
              "       [1., 1., 1., 1., 1.],\n",
              "       [1., 1., 1., 1., 1.]])"
            ]
          },
          "metadata": {},
          "execution_count": 30
        }
      ]
    },
    {
      "cell_type": "markdown",
      "source": [
        "**Using np.eye()**\n",
        "*   The np.eye() is a function for creating a matrix and performing matrix operations in NumPy.\n",
        "*   It returns a matrix with ones on the diagonal and zeros elsewhere.\n",
        "\n",
        "\n",
        "*   It has the following parameters:\n",
        "*   **n**: Number of rows and columns in the output matrix\n",
        "\n",
        "\n",
        "*   **dtype**: data type of the elements in the matrix, by default the value is set to float\n",
        "\n",
        "\n",
        "\n",
        "\n",
        "\n"
      ],
      "metadata": {
        "id": "xI7wiNwM8NKa"
      }
    },
    {
      "cell_type": "code",
      "source": [
        "matrix7 = np.eye(5)\n",
        "matrix7"
      ],
      "metadata": {
        "colab": {
          "base_uri": "https://localhost:8080/"
        },
        "id": "zUI-8NsE77C2",
        "outputId": "fb1118eb-a85d-4c44-dac8-70ae73161702"
      },
      "execution_count": null,
      "outputs": [
        {
          "output_type": "execute_result",
          "data": {
            "text/plain": [
              "array([[1., 0., 0., 0., 0.],\n",
              "       [0., 1., 0., 0., 0.],\n",
              "       [0., 0., 1., 0., 0.],\n",
              "       [0., 0., 0., 1., 0.],\n",
              "       [0., 0., 0., 0., 1.]])"
            ]
          },
          "metadata": {},
          "execution_count": 32
        }
      ]
    },
    {
      "cell_type": "markdown",
      "source": [
        "**We can also convert a one dimension array to a matrix. This can be done by using reshape method**"
      ],
      "metadata": {
        "id": "HiGWTWSX9JKo"
      }
    },
    {
      "cell_type": "code",
      "source": [
        "list = [1,2,3,4,5,6,7,8,9,10]\n",
        "list_arr = np.array(list)\n",
        "matrix8 = list_arr.reshape([2,5])\n",
        "matrix8"
      ],
      "metadata": {
        "colab": {
          "base_uri": "https://localhost:8080/"
        },
        "id": "YdQKRaOq8_8T",
        "outputId": "43ff5689-039b-4d69-a839-5225cd7d24a4"
      },
      "execution_count": null,
      "outputs": [
        {
          "output_type": "execute_result",
          "data": {
            "text/plain": [
              "array([[ 1,  2,  3,  4,  5],\n",
              "       [ 6,  7,  8,  9, 10]])"
            ]
          },
          "metadata": {},
          "execution_count": 34
        }
      ]
    },
    {
      "cell_type": "code",
      "source": [],
      "metadata": {
        "id": "lx7UMVL89z3P"
      },
      "execution_count": null,
      "outputs": []
    }
  ]
}