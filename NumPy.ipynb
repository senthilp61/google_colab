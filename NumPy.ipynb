{
  "nbformat": 4,
  "nbformat_minor": 0,
  "metadata": {
    "colab": {
      "provenance": [],
      "authorship_tag": "ABX9TyPD24Bm8XDm+6cEpZ4RDCh4",
      "include_colab_link": true
    },
    "kernelspec": {
      "name": "python3",
      "display_name": "Python 3"
    },
    "language_info": {
      "name": "python"
    }
  },
  "cells": [
    {
      "cell_type": "markdown",
      "metadata": {
        "id": "view-in-github",
        "colab_type": "text"
      },
      "source": [
        "<a href=\"https://colab.research.google.com/github/senthilp61/google_colab/blob/main/NumPy.ipynb\" target=\"_parent\"><img src=\"https://colab.research.google.com/assets/colab-badge.svg\" alt=\"Open In Colab\"/></a>"
      ]
    },
    {
      "cell_type": "code",
      "execution_count": null,
      "metadata": {
        "id": "-tl32fXAhEat"
      },
      "outputs": [],
      "source": [
        "# The first step of using numpy is to tell python to import it\n",
        "import numpy as np"
      ]
    },
    {
      "cell_type": "markdown",
      "source": [
        "**2.1 NumPy Arrays**\n",
        "\n",
        "NumPy Array\n",
        "\n",
        "\n",
        "*   An Array is a data structure that stores values of same data type.\n",
        "*   While python lists can contain values of different data types, arrays in python can only contain values of the same data type.\n",
        "\n",
        "\n",
        "*   However python lists fail to deliver performance required while computing large sets of numerical data. To address this issue we use NumPy arrays.\n",
        "*   We can create NumPy arrays by converting a list to an array.\n",
        "\n",
        "\n"
      ],
      "metadata": {
        "id": "l4EMHh5Ch90s"
      }
    },
    {
      "cell_type": "code",
      "source": [
        "# define a list of different car companies or string elements\n",
        "arr_str = ['Mercedes', 'BMW', 'Audi', 'Ferrari', 'Tesla']\n",
        "print(arr_str)\n",
        "print(type(arr_str))\n",
        "# defining a list of number of cylinders in car or numerical elements\n",
        "arr_numm = [5,4,6,7,3]\n",
        "print(arr_numm)\n",
        "print(type(arr_numm))"
      ],
      "metadata": {
        "colab": {
          "base_uri": "https://localhost:8080/"
        },
        "id": "0qUU_MvVh2iP",
        "outputId": "05612fef-8a7e-47ea-8c73-54ace01f4acd"
      },
      "execution_count": null,
      "outputs": [
        {
          "output_type": "stream",
          "name": "stdout",
          "text": [
            "['Mercedes', 'BMW', 'Audi', 'Ferrari', 'Tesla']\n",
            "<class 'list'>\n",
            "[5, 4, 6, 7, 3]\n",
            "<class 'list'>\n"
          ]
        }
      ]
    },
    {
      "cell_type": "code",
      "source": [
        "# converting the list arr_str to a NumPy array\n",
        "np_arr_str = np.array(arr_str)\n",
        "print(\"NumPy Array (arr_str): \", np_arr_str)\n",
        "print(type(np_arr_str))\n",
        "\n",
        "#converting the list arr_numm to a NumPy array\n",
        "np_arr_numm = np.array(arr_numm)\n",
        "print(\"NumPy Array (arr_numm): \", np_arr_numm)\n",
        "print(type(np_arr_numm))"
      ],
      "metadata": {
        "colab": {
          "base_uri": "https://localhost:8080/"
        },
        "id": "29kC36ldjlII",
        "outputId": "773c6b8b-1547-4e99-e04f-33c0e75a6a9b"
      },
      "execution_count": null,
      "outputs": [
        {
          "output_type": "stream",
          "name": "stdout",
          "text": [
            "NumPy Array (arr_str):  ['Mercedes' 'BMW' 'Audi' 'Ferrari' 'Tesla']\n",
            "<class 'numpy.ndarray'>\n",
            "NumPy Array (arr_numm):  [5 4 6 7 3]\n",
            "<class 'numpy.ndarray'>\n"
          ]
        }
      ]
    },
    {
      "cell_type": "markdown",
      "source": [
        "## NumPy Matrix\n",
        "\n",
        "\n",
        "*   A matrix is a two-dimensional data structure where elements are arranged into rows and columns.\n",
        "*   A matric can be created by using list of lists\n",
        "\n"
      ],
      "metadata": {
        "id": "7yWUph7FlD_c"
      }
    },
    {
      "cell_type": "code",
      "source": [
        "# let's say we have information of different number of cylinders in a car and we want to display them in a matrix format\n",
        "matrix = np.array([[1,2,1],[4,5,9],[1,8,9]])\n",
        "print(matrix)"
      ],
      "metadata": {
        "colab": {
          "base_uri": "https://localhost:8080/"
        },
        "id": "HMQtmML8j39w",
        "outputId": "33b7c5cf-9cd2-450f-8770-3bd80e7fe2e7"
      },
      "execution_count": null,
      "outputs": [
        {
          "output_type": "stream",
          "name": "stdout",
          "text": [
            "[[1 2 1]\n",
            " [4 5 9]\n",
            " [1 8 9]]\n"
          ]
        }
      ]
    },
    {
      "cell_type": "code",
      "source": [
        "print(\"Data type of matrix: \", type(matrix))"
      ],
      "metadata": {
        "colab": {
          "base_uri": "https://localhost:8080/"
        },
        "id": "zMiQSmH8l-4u",
        "outputId": "3d066cd2-ceeb-4b6f-c30e-22c19816e0a4"
      },
      "execution_count": null,
      "outputs": [
        {
          "output_type": "stream",
          "name": "stdout",
          "text": [
            "Data type of matrix:  <class 'numpy.ndarray'>\n"
          ]
        }
      ]
    },
    {
      "cell_type": "markdown",
      "source": [
        "\n",
        "\n",
        "*   We see that all the NumPy objects have data type of ndarray\n",
        "\n"
      ],
      "metadata": {
        "id": "EbrIT0Q2mMi7"
      }
    },
    {
      "cell_type": "markdown",
      "source": [
        "# 2.2 NumPy Functions\n",
        "There are different ways to create NumPy arrays using the functions available in NumPy library\n",
        "\n",
        "Using np.arange() function"
      ],
      "metadata": {
        "id": "88-qGDaBmaa2"
      }
    },
    {
      "cell_type": "code",
      "source": [
        "arr2 = np.arange(start=0, stop=10) # 10 will be excluded from the output\n",
        "print(arr2)\n",
        "\n",
        "# or\n",
        "\n",
        "arr2 = np.arange(0,10)\n",
        "print(arr2)"
      ],
      "metadata": {
        "colab": {
          "base_uri": "https://localhost:8080/"
        },
        "id": "Vm2Hh7ipmHV4",
        "outputId": "80f035e1-19fb-417b-801a-93259f884532"
      },
      "execution_count": null,
      "outputs": [
        {
          "output_type": "stream",
          "name": "stdout",
          "text": [
            "[0 1 2 3 4 5 6 7 8 9]\n",
            "[0 1 2 3 4 5 6 7 8 9]\n"
          ]
        }
      ]
    },
    {
      "cell_type": "code",
      "source": [
        "# adding a step size of 5 to create an array\n",
        "arr3 = np.arange(start=0, stop=20, step=5)\n",
        "print(arr3)\n",
        "\n",
        "# or\n",
        "\n",
        "arr3 = np.arange(0,20,5)\n",
        "arr3"
      ],
      "metadata": {
        "colab": {
          "base_uri": "https://localhost:8080/"
        },
        "id": "IDATdB1onC2f",
        "outputId": "276438c7-2a99-4671-cfc0-0be6064b49a4"
      },
      "execution_count": null,
      "outputs": [
        {
          "output_type": "stream",
          "name": "stdout",
          "text": [
            "[ 0  5 10 15]\n"
          ]
        },
        {
          "output_type": "execute_result",
          "data": {
            "text/plain": [
              "array([ 0,  5, 10, 15])"
            ]
          },
          "metadata": {},
          "execution_count": 25
        }
      ]
    },
    {
      "cell_type": "markdown",
      "source": [
        "### Using np.linspace() function\n",
        "\n",
        "\n",
        "*   The np.linspace() function returns numbers which are evenly distributed with respect to interval. Here the start and stop both are included\n",
        "*   It has the following parameters:\n",
        "\n",
        "\n",
        "*   **start**: start of interval range. By default start = 0\n",
        "*   **stop**: end of interval range\n",
        "*   **num**: No. of samples to generate. By default num = 50\n",
        "\n",
        "\n",
        "\n",
        "\n"
      ],
      "metadata": {
        "id": "ucephFa4oFoP"
      }
    },
    {
      "cell_type": "code",
      "source": [
        "matrix2 = np.linspace(0,5) # by default 50 evenly spaced values will be generated between 0 and 5\n",
        "matrix2"
      ],
      "metadata": {
        "colab": {
          "base_uri": "https://localhost:8080/"
        },
        "id": "oqFf6b7snYgh",
        "outputId": "cf83b02d-c887-440d-c9ca-652553b4fa63"
      },
      "execution_count": null,
      "outputs": [
        {
          "output_type": "execute_result",
          "data": {
            "text/plain": [
              "array([0.        , 0.10204082, 0.20408163, 0.30612245, 0.40816327,\n",
              "       0.51020408, 0.6122449 , 0.71428571, 0.81632653, 0.91836735,\n",
              "       1.02040816, 1.12244898, 1.2244898 , 1.32653061, 1.42857143,\n",
              "       1.53061224, 1.63265306, 1.73469388, 1.83673469, 1.93877551,\n",
              "       2.04081633, 2.14285714, 2.24489796, 2.34693878, 2.44897959,\n",
              "       2.55102041, 2.65306122, 2.75510204, 2.85714286, 2.95918367,\n",
              "       3.06122449, 3.16326531, 3.26530612, 3.36734694, 3.46938776,\n",
              "       3.57142857, 3.67346939, 3.7755102 , 3.87755102, 3.97959184,\n",
              "       4.08163265, 4.18367347, 4.28571429, 4.3877551 , 4.48979592,\n",
              "       4.59183673, 4.69387755, 4.79591837, 4.89795918, 5.        ])"
            ]
          },
          "metadata": {},
          "execution_count": 26
        }
      ]
    },
    {
      "cell_type": "markdown",
      "source": [
        "**How are these values getting generated?**\n",
        "The step size or the difference between each element will be decided by the following formula:\n",
        "\n",
        "**(stop - start)/(total elements - 1)**\n",
        "\n",
        "so, in this case: (5-0)/49 = 0.10204082\n",
        "\n",
        "The first value will be 0.10204082, the second value will be 0.10204082 + 0.10204082, and so on"
      ],
      "metadata": {
        "id": "Z1CEg1DapsQL"
      }
    },
    {
      "cell_type": "code",
      "source": [
        "# generating 10 evenly spaced values between 10 and 20\n",
        "matrix3 = np.linspace(10,20,10)\n",
        "matrix3"
      ],
      "metadata": {
        "colab": {
          "base_uri": "https://localhost:8080/"
        },
        "id": "teY7TrjLqSbw",
        "outputId": "4ab2666b-905f-4c73-f38b-4a9d9f1e05bc"
      },
      "execution_count": null,
      "outputs": [
        {
          "output_type": "execute_result",
          "data": {
            "text/plain": [
              "array([10.        , 11.11111111, 12.22222222, 13.33333333, 14.44444444,\n",
              "       15.55555556, 16.66666667, 17.77777778, 18.88888889, 20.        ])"
            ]
          },
          "metadata": {},
          "execution_count": 28
        }
      ]
    },
    {
      "cell_type": "markdown",
      "source": [
        "**Similarly we can create matrices using the functions available in NumPy library**\n",
        "\n",
        "**Using np.zeros()**\n",
        "\n",
        "\n",
        "*   The np.zeros() is a function for creating a matrix and performing matrix operations in NumPy.\n",
        "*   It returns the matrix filled with zeros of the given shape.\n",
        "\n",
        "\n",
        "*   It has the following parameters:\n",
        "*   **shape**: Number of rows and columns in the output matrix.\n",
        "\n",
        "\n",
        "*   **dtype**: data type of the elements in the matrix, by default the value is set to **float**.\n",
        "\n",
        "\n",
        "\n",
        "\n",
        "\n"
      ],
      "metadata": {
        "id": "83KBWHYSrXbx"
      }
    },
    {
      "cell_type": "code",
      "source": [
        "matrix4 = np.zeros([3,5])\n",
        "matrix4"
      ],
      "metadata": {
        "colab": {
          "base_uri": "https://localhost:8080/"
        },
        "id": "Y8Hj1y8Gq_hC",
        "outputId": "d17bfadc-375d-46ac-a2b5-0024f2b2dbe4"
      },
      "execution_count": null,
      "outputs": [
        {
          "output_type": "execute_result",
          "data": {
            "text/plain": [
              "array([[0., 0., 0., 0., 0.],\n",
              "       [0., 0., 0., 0., 0.],\n",
              "       [0., 0., 0., 0., 0.]])"
            ]
          },
          "metadata": {},
          "execution_count": 34
        }
      ]
    },
    {
      "cell_type": "markdown",
      "source": [
        "**Using np.ones()**"
      ],
      "metadata": {
        "id": "X5unI4EIs9gz"
      }
    },
    {
      "cell_type": "code",
      "source": [
        "matrix5 = np.ones([3,5])\n",
        "matrix5"
      ],
      "metadata": {
        "colab": {
          "base_uri": "https://localhost:8080/"
        },
        "id": "Z5ZNorM_rJ0l",
        "outputId": "e76db953-4ebd-4cba-bc2a-711734445bb6"
      },
      "execution_count": null,
      "outputs": [
        {
          "output_type": "execute_result",
          "data": {
            "text/plain": [
              "array([[1., 1., 1., 1., 1.],\n",
              "       [1., 1., 1., 1., 1.],\n",
              "       [1., 1., 1., 1., 1.]])"
            ]
          },
          "metadata": {},
          "execution_count": 35
        }
      ]
    },
    {
      "cell_type": "markdown",
      "source": [
        "**Using np.eye()**"
      ],
      "metadata": {
        "id": "qGuO18dXtPdz"
      }
    },
    {
      "cell_type": "code",
      "source": [
        "matrix6 = np.eye(5)\n",
        "matrix6"
      ],
      "metadata": {
        "colab": {
          "base_uri": "https://localhost:8080/"
        },
        "id": "_n63QVBQtHPn",
        "outputId": "3cb31151-fec8-43c9-c5fb-557635288774"
      },
      "execution_count": null,
      "outputs": [
        {
          "output_type": "execute_result",
          "data": {
            "text/plain": [
              "array([[1., 0., 0., 0., 0.],\n",
              "       [0., 1., 0., 0., 0.],\n",
              "       [0., 0., 1., 0., 0.],\n",
              "       [0., 0., 0., 1., 0.],\n",
              "       [0., 0., 0., 0., 1.]])"
            ]
          },
          "metadata": {},
          "execution_count": 37
        }
      ]
    },
    {
      "cell_type": "markdown",
      "source": [
        "**We can also convert a one dimension array to a matrix. This can be done by using the np.reshape() function.**"
      ],
      "metadata": {
        "id": "SZiFgvidtuoN"
      }
    },
    {
      "cell_type": "code",
      "source": [
        "# defining an array with values 0 to 9\n",
        "arr4 = np.arange(0,10)\n",
        "arr4"
      ],
      "metadata": {
        "colab": {
          "base_uri": "https://localhost:8080/"
        },
        "id": "Vg7uyYk_tXdS",
        "outputId": "466e2d20-0f29-4ae4-ee8c-a930f3e07562"
      },
      "execution_count": null,
      "outputs": [
        {
          "output_type": "execute_result",
          "data": {
            "text/plain": [
              "array([0, 1, 2, 3, 4, 5, 6, 7, 8, 9])"
            ]
          },
          "metadata": {},
          "execution_count": 38
        }
      ]
    },
    {
      "cell_type": "code",
      "source": [
        "# reshaping arr4 to a 2 x 5 matrix\n",
        "arr4_reshaped = arr4.reshape((2,5))\n",
        "arr4_reshaped"
      ],
      "metadata": {
        "colab": {
          "base_uri": "https://localhost:8080/"
        },
        "id": "v9OkDfviuGBm",
        "outputId": "176a39e2-9964-465d-c452-cbb8e2e66723"
      },
      "execution_count": null,
      "outputs": [
        {
          "output_type": "execute_result",
          "data": {
            "text/plain": [
              "array([[0, 1, 2, 3, 4],\n",
              "       [5, 6, 7, 8, 9]])"
            ]
          },
          "metadata": {},
          "execution_count": 39
        }
      ]
    },
    {
      "cell_type": "markdown",
      "source": [
        "**NumPy can also perform a large number of different mathematical operations and it provides different functions to do so.**\n",
        "\n",
        "NumPy provides:\n",
        "\n",
        "\n",
        "1.   Trignometric functions\n",
        "2.   Exponents and Logarithmic functions\n",
        "3.   Functions for arithmetic operations between arrays and matrices\n",
        "\n",
        "\n",
        "\n"
      ],
      "metadata": {
        "id": "rxPNbQ7XujlX"
      }
    },
    {
      "cell_type": "markdown",
      "source": [
        "**Trignometric functions**"
      ],
      "metadata": {
        "id": "3sisVf0CvTZj"
      }
    },
    {
      "cell_type": "code",
      "source": [
        "print(\"Sine Function:\", np.sin(4))\n",
        "print(\"Cosine Function:\", np.cos(4))\n",
        "print(\"Tan Functions:\", np.tan(4))"
      ],
      "metadata": {
        "colab": {
          "base_uri": "https://localhost:8080/"
        },
        "id": "JWD2exj0uYZT",
        "outputId": "6cd50735-3b20-4dbf-d05a-7206da073105"
      },
      "execution_count": null,
      "outputs": [
        {
          "output_type": "stream",
          "name": "stdout",
          "text": [
            "Sine Function: -0.7568024953079282\n",
            "Cosine Function: -0.6536436208636119\n",
            "Tan Functions: 1.1578212823495775\n"
          ]
        }
      ]
    },
    {
      "cell_type": "markdown",
      "source": [
        "**Exponents and Logarithmic functions**\n",
        "*   Exponents\n",
        "\n",
        "\n",
        "\n",
        "\n"
      ],
      "metadata": {
        "id": "EGQ9yzj8vrTg"
      }
    },
    {
      "cell_type": "code",
      "source": [
        "np.exp(2)"
      ],
      "metadata": {
        "colab": {
          "base_uri": "https://localhost:8080/"
        },
        "id": "r09NvjZHvpMe",
        "outputId": "ef776676-6cb5-4794-abda-3bb0e1258e70"
      },
      "execution_count": null,
      "outputs": [
        {
          "output_type": "execute_result",
          "data": {
            "text/plain": [
              "7.38905609893065"
            ]
          },
          "metadata": {},
          "execution_count": 41
        }
      ]
    },
    {
      "cell_type": "code",
      "source": [
        "arr5 = np.array([2,4,6])\n",
        "np.exp(arr5)"
      ],
      "metadata": {
        "colab": {
          "base_uri": "https://localhost:8080/"
        },
        "id": "BFRFdFWXv4s6",
        "outputId": "1ba62b67-ae94-4fd1-854f-b9ee55cc064d"
      },
      "execution_count": null,
      "outputs": [
        {
          "output_type": "execute_result",
          "data": {
            "text/plain": [
              "array([  7.3890561 ,  54.59815003, 403.42879349])"
            ]
          },
          "metadata": {},
          "execution_count": 44
        }
      ]
    },
    {
      "cell_type": "markdown",
      "source": [
        "\n",
        "\n",
        "*   Logarithms\n",
        "\n"
      ],
      "metadata": {
        "id": "J7rAkPigwL9Z"
      }
    },
    {
      "cell_type": "code",
      "source": [
        "# by default NumPy takes the base of log as e\n",
        "np.log(2)"
      ],
      "metadata": {
        "colab": {
          "base_uri": "https://localhost:8080/"
        },
        "id": "Y1xvGHifwAME",
        "outputId": "69d2481b-3c50-43bb-bc0d-02e17dc5ac53"
      },
      "execution_count": null,
      "outputs": [
        {
          "output_type": "execute_result",
          "data": {
            "text/plain": [
              "0.6931471805599453"
            ]
          },
          "metadata": {},
          "execution_count": 45
        }
      ]
    },
    {
      "cell_type": "code",
      "source": [
        "np.log(arr5)"
      ],
      "metadata": {
        "colab": {
          "base_uri": "https://localhost:8080/"
        },
        "id": "9M_sjwUJwYOC",
        "outputId": "b6afa913-ffc3-4216-fd5c-bdf94780d501"
      },
      "execution_count": null,
      "outputs": [
        {
          "output_type": "execute_result",
          "data": {
            "text/plain": [
              "array([0.69314718, 1.38629436, 1.79175947])"
            ]
          },
          "metadata": {},
          "execution_count": 46
        }
      ]
    },
    {
      "cell_type": "code",
      "source": [
        "## log with base 10\n",
        "np.log10(8)"
      ],
      "metadata": {
        "colab": {
          "base_uri": "https://localhost:8080/"
        },
        "id": "tmsaL9Z5wcxo",
        "outputId": "84b2e0cb-d653-4b86-abb2-c31637efc676"
      },
      "execution_count": null,
      "outputs": [
        {
          "output_type": "execute_result",
          "data": {
            "text/plain": [
              "0.9030899869919435"
            ]
          },
          "metadata": {},
          "execution_count": 47
        }
      ]
    },
    {
      "cell_type": "markdown",
      "source": [
        "**Arithmetic Operations on arrays**"
      ],
      "metadata": {
        "id": "mNI6K0Ihwj2l"
      }
    },
    {
      "cell_type": "code",
      "source": [
        "# arithmetic on lists\n",
        "\n",
        "l1 = [1,2,3]\n",
        "l2 = [4,5,6]\n",
        "print(l1+l2)\n",
        "# this doesnot behave as you would expect"
      ],
      "metadata": {
        "colab": {
          "base_uri": "https://localhost:8080/"
        },
        "id": "G3_E_jZGwiJl",
        "outputId": "4fdbef90-788c-4957-ff66-a7639f32d65a"
      },
      "execution_count": null,
      "outputs": [
        {
          "output_type": "stream",
          "name": "stdout",
          "text": [
            "[1, 2, 3, 4, 5, 6]\n"
          ]
        }
      ]
    },
    {
      "cell_type": "code",
      "source": [
        "# We can +-*/ arrays together\n",
        "\n",
        "# defining two arrays\n",
        "arr7 = np.arange(1,6)\n",
        "print('arr7:',arr7)\n",
        "\n",
        "arr8 = np.arange(3,8)\n",
        "print('arr8:', arr8)"
      ],
      "metadata": {
        "colab": {
          "base_uri": "https://localhost:8080/"
        },
        "id": "G57IIGHYw0sj",
        "outputId": "30fb991d-53ca-495b-9c97-142bb0490db8"
      },
      "execution_count": null,
      "outputs": [
        {
          "output_type": "stream",
          "name": "stdout",
          "text": [
            "arr7: [1 2 3 4 5]\n",
            "arr8: [3 4 5 6 7]\n"
          ]
        }
      ]
    },
    {
      "cell_type": "code",
      "source": [
        "print(\"Addition\", arr7+arr8)"
      ],
      "metadata": {
        "colab": {
          "base_uri": "https://localhost:8080/"
        },
        "id": "Ysx6gDHuxLxd",
        "outputId": "86a91a31-e563-463d-941a-4ad7bf904814"
      },
      "execution_count": null,
      "outputs": [
        {
          "output_type": "stream",
          "name": "stdout",
          "text": [
            "Addition [ 4  6  8 10 12]\n"
          ]
        }
      ]
    },
    {
      "cell_type": "code",
      "source": [
        "print(\"Subtraction: \",arr8-arr7)"
      ],
      "metadata": {
        "colab": {
          "base_uri": "https://localhost:8080/"
        },
        "id": "OHZ_DFrcxbXq",
        "outputId": "fa977f50-fce9-4797-be3d-d890e27e606a"
      },
      "execution_count": null,
      "outputs": [
        {
          "output_type": "stream",
          "name": "stdout",
          "text": [
            "Subtraction:  [2 2 2 2 2]\n"
          ]
        }
      ]
    },
    {
      "cell_type": "code",
      "source": [
        "print(\"Multiplication: \", arr7*arr8)"
      ],
      "metadata": {
        "colab": {
          "base_uri": "https://localhost:8080/"
        },
        "id": "cSQrCfcexhWz",
        "outputId": "c0cef5e7-9b37-4af0-dc69-5a78ab95ad45"
      },
      "execution_count": null,
      "outputs": [
        {
          "output_type": "stream",
          "name": "stdout",
          "text": [
            "Multiplication:  [ 3  8 15 24 35]\n"
          ]
        }
      ]
    },
    {
      "cell_type": "code",
      "source": [
        "print(\"Division:\", arr7/arr8)"
      ],
      "metadata": {
        "colab": {
          "base_uri": "https://localhost:8080/"
        },
        "id": "SfOT-noTxnFu",
        "outputId": "07908cb5-e688-430a-963e-c0d6f7eb13a4"
      },
      "execution_count": null,
      "outputs": [
        {
          "output_type": "stream",
          "name": "stdout",
          "text": [
            "Division: [0.33333333 0.5        0.6        0.66666667 0.71428571]\n"
          ]
        }
      ]
    },
    {
      "cell_type": "code",
      "source": [
        "print(\"Inverse:\", 1/arr7)"
      ],
      "metadata": {
        "colab": {
          "base_uri": "https://localhost:8080/"
        },
        "id": "Ym-Pk2ehxvzB",
        "outputId": "7baf1bb3-ec6b-4fb8-8cbc-4e337a8ba369"
      },
      "execution_count": null,
      "outputs": [
        {
          "output_type": "stream",
          "name": "stdout",
          "text": [
            "Inverse: [1.         0.5        0.33333333 0.25       0.2       ]\n"
          ]
        }
      ]
    },
    {
      "cell_type": "code",
      "source": [
        "print(\"Powers\", arr7**arr8) # in python, powers are acheived using **, NOT ^!!! ^ does something completely different"
      ],
      "metadata": {
        "colab": {
          "base_uri": "https://localhost:8080/"
        },
        "id": "KL9VwnpNyEWa",
        "outputId": "a2087d4e-d9d4-4831-d5b7-c946604344e9"
      },
      "execution_count": null,
      "outputs": [
        {
          "output_type": "stream",
          "name": "stdout",
          "text": [
            "Powers [    1    16   243  4096 78125]\n"
          ]
        }
      ]
    },
    {
      "cell_type": "markdown",
      "source": [
        "**Operations on Matrices**"
      ],
      "metadata": {
        "id": "sW7BB3m9yiN0"
      }
    },
    {
      "cell_type": "code",
      "source": [
        "matrix7 = np.arange(1,10).reshape(3,3)\n",
        "print(matrix7)"
      ],
      "metadata": {
        "colab": {
          "base_uri": "https://localhost:8080/"
        },
        "id": "stA973QgyZB6",
        "outputId": "47559821-e647-4e42-c399-af505f335a43"
      },
      "execution_count": null,
      "outputs": [
        {
          "output_type": "stream",
          "name": "stdout",
          "text": [
            "[[1 2 3]\n",
            " [4 5 6]\n",
            " [7 8 9]]\n"
          ]
        }
      ]
    },
    {
      "cell_type": "code",
      "source": [
        "matrix8 = np.eye(3)\n",
        "print(matrix8)"
      ],
      "metadata": {
        "colab": {
          "base_uri": "https://localhost:8080/"
        },
        "id": "wZ8PWIGfyvh4",
        "outputId": "94cac8d0-e5e6-4421-bf2a-98f2995dabf4"
      },
      "execution_count": null,
      "outputs": [
        {
          "output_type": "stream",
          "name": "stdout",
          "text": [
            "[[1. 0. 0.]\n",
            " [0. 1. 0.]\n",
            " [0. 0. 1.]]\n"
          ]
        }
      ]
    },
    {
      "cell_type": "code",
      "source": [
        "print(\"Addition: \\n\", matrix7+matrix8)\n",
        "print(\"Subtraction: \\n\", matrix7-matrix8)\n",
        "print(\"Multiplication: \\n\", matrix7*matrix8)\n",
        "print(\"Division: \\n\", matrix7/matrix8)"
      ],
      "metadata": {
        "colab": {
          "base_uri": "https://localhost:8080/"
        },
        "id": "zaXcnRr7y5qp",
        "outputId": "3e2ae044-5948-4806-be3f-cc4dfdc4d66a"
      },
      "execution_count": null,
      "outputs": [
        {
          "output_type": "stream",
          "name": "stdout",
          "text": [
            "Addition: \n",
            " [[ 2.  2.  3.]\n",
            " [ 4.  6.  6.]\n",
            " [ 7.  8. 10.]]\n",
            "Subtraction: \n",
            " [[0. 2. 3.]\n",
            " [4. 4. 6.]\n",
            " [7. 8. 8.]]\n",
            "Multiplication: \n",
            " [[1. 0. 0.]\n",
            " [0. 5. 0.]\n",
            " [0. 0. 9.]]\n",
            "Division: \n",
            " [[ 1. inf inf]\n",
            " [inf  5. inf]\n",
            " [inf inf  9.]]\n"
          ]
        },
        {
          "output_type": "stream",
          "name": "stderr",
          "text": [
            "<ipython-input-62-ad0cf6eca0c3>:4: RuntimeWarning: divide by zero encountered in divide\n",
            "  print(\"Division: \\n\", matrix7/matrix8)\n"
          ]
        }
      ]
    },
    {
      "cell_type": "markdown",
      "source": [
        "**Linear algebra matrix multiplication**"
      ],
      "metadata": {
        "id": "g4GsFUKXzmec"
      }
    },
    {
      "cell_type": "code",
      "source": [
        "matrix9 = np.arange(1,10).reshape((3,3))\n",
        "print(\"First matrix: \\n\", matrix9)\n",
        "\n",
        "matrix10 = np.arange(11,20).reshape((3,3))\n",
        "print(\"Second matrix: \\n\", matrix10)\n",
        "print('')\n",
        "# taking linear algebra matrix multiplication (some may have heard this called the dot product)\n",
        "print(\"Multiplication: \\n\", matrix9 @ matrix10)"
      ],
      "metadata": {
        "colab": {
          "base_uri": "https://localhost:8080/"
        },
        "id": "hMoNT-qyzKKl",
        "outputId": "618f38ee-ac3b-45a9-8475-4be534bb48ed"
      },
      "execution_count": null,
      "outputs": [
        {
          "output_type": "stream",
          "name": "stdout",
          "text": [
            "First matrix: \n",
            " [[1 2 3]\n",
            " [4 5 6]\n",
            " [7 8 9]]\n",
            "Second matrix: \n",
            " [[11 12 13]\n",
            " [14 15 16]\n",
            " [17 18 19]]\n",
            "\n",
            "Multiplication: \n",
            " [[ 90  96 102]\n",
            " [216 231 246]\n",
            " [342 366 390]]\n"
          ]
        }
      ]
    },
    {
      "cell_type": "markdown",
      "source": [
        "**Transpose of a matrix**"
      ],
      "metadata": {
        "id": "Lj5Rxtrk1a9H"
      }
    },
    {
      "cell_type": "code",
      "source": [
        "print(matrix9)"
      ],
      "metadata": {
        "colab": {
          "base_uri": "https://localhost:8080/"
        },
        "id": "sClWFJZz0tJl",
        "outputId": "39c7776d-7b7d-47ee-868e-ddeb905349ad"
      },
      "execution_count": null,
      "outputs": [
        {
          "output_type": "stream",
          "name": "stdout",
          "text": [
            "[[1 2 3]\n",
            " [4 5 6]\n",
            " [7 8 9]]\n"
          ]
        }
      ]
    },
    {
      "cell_type": "code",
      "source": [
        "# taking transpose of matrix\n",
        "np.transpose(matrix9)\n"
      ],
      "metadata": {
        "colab": {
          "base_uri": "https://localhost:8080/"
        },
        "id": "Dn7S1un_1gm3",
        "outputId": "57cb61f6-7733-42fd-8d97-2c1d2e42e347"
      },
      "execution_count": null,
      "outputs": [
        {
          "output_type": "execute_result",
          "data": {
            "text/plain": [
              "array([[1, 4, 7],\n",
              "       [2, 5, 8],\n",
              "       [3, 6, 9]])"
            ]
          },
          "metadata": {},
          "execution_count": 67
        }
      ]
    },
    {
      "cell_type": "code",
      "source": [
        "# another way of taking a transpose\n",
        "matrix9.T"
      ],
      "metadata": {
        "colab": {
          "base_uri": "https://localhost:8080/"
        },
        "id": "63Oa_tAR1sSz",
        "outputId": "ad71c082-3ae3-403f-fb56-cdf298fbee64"
      },
      "execution_count": null,
      "outputs": [
        {
          "output_type": "execute_result",
          "data": {
            "text/plain": [
              "array([[1, 4, 7],\n",
              "       [2, 5, 8],\n",
              "       [3, 6, 9]])"
            ]
          },
          "metadata": {},
          "execution_count": 68
        }
      ]
    },
    {
      "cell_type": "markdown",
      "source": [
        "**Function to find minimum and maximum values**"
      ],
      "metadata": {
        "id": "XaDGC8f911ae"
      }
    },
    {
      "cell_type": "code",
      "source": [
        "print(matrix9)"
      ],
      "metadata": {
        "colab": {
          "base_uri": "https://localhost:8080/"
        },
        "id": "1O4uY0XP1yU1",
        "outputId": "f73f1159-c78c-4520-f949-0a73cb3c88a8"
      },
      "execution_count": null,
      "outputs": [
        {
          "output_type": "stream",
          "name": "stdout",
          "text": [
            "[[1 2 3]\n",
            " [4 5 6]\n",
            " [7 8 9]]\n"
          ]
        }
      ]
    },
    {
      "cell_type": "code",
      "source": [
        "print(\"Minimum value: \", np.min(matrix9))"
      ],
      "metadata": {
        "colab": {
          "base_uri": "https://localhost:8080/"
        },
        "id": "bLQ-KVSR2C7p",
        "outputId": "09b9f07d-def8-4dcc-9f71-af7e29cbb04c"
      },
      "execution_count": null,
      "outputs": [
        {
          "output_type": "stream",
          "name": "stdout",
          "text": [
            "Minimum value:  1\n"
          ]
        }
      ]
    },
    {
      "cell_type": "code",
      "source": [
        "print(\"Maximum value: \", np.max(matrix9))"
      ],
      "metadata": {
        "colab": {
          "base_uri": "https://localhost:8080/"
        },
        "id": "6_0Tq8i-2MIM",
        "outputId": "64bcfb9a-8c4c-4644-9bed-eb5d696f5b72"
      },
      "execution_count": null,
      "outputs": [
        {
          "output_type": "stream",
          "name": "stdout",
          "text": [
            "Maximum value:  9\n"
          ]
        }
      ]
    },
    {
      "cell_type": "markdown",
      "source": [
        "**Function to generate random samples**\n",
        "\n",
        "**Using np.random.rand function**\n",
        "\n",
        "\n",
        "*   The np.random.rand returns a random NumPy array whose element(s) are drawn randomly from the normal distribution over [0,1). (including 0 but excluding 1).\n",
        "*   **Syntax** - np.random.rand(d0,d1)\n",
        "*   d0,d1 - It represents the dimension of the required array given as int, where d1 is optional.\n",
        "\n",
        "\n",
        "\n"
      ],
      "metadata": {
        "id": "0fctjIex2cYG"
      }
    },
    {
      "cell_type": "code",
      "source": [
        "# Generating random values in an array\n",
        "rand_mat = np.random.rand(5)\n",
        "print(rand_mat)"
      ],
      "metadata": {
        "colab": {
          "base_uri": "https://localhost:8080/"
        },
        "id": "POZ2Le5X2RhA",
        "outputId": "528a6cbc-9b49-45f2-fa3e-4bde7b3c210a"
      },
      "execution_count": null,
      "outputs": [
        {
          "output_type": "stream",
          "name": "stdout",
          "text": [
            "[0.01470471 0.54360533 0.27762507 0.2783502  0.91313231]\n"
          ]
        }
      ]
    },
    {
      "cell_type": "code",
      "source": [
        "# * Generating random values in a matrix\n",
        "rand_mat = np.random.rand(5,5) # uniform random variable\n",
        "print(rand_mat)"
      ],
      "metadata": {
        "colab": {
          "base_uri": "https://localhost:8080/"
        },
        "id": "q0iE87NC3e6g",
        "outputId": "7f6c16a9-659d-443e-ee0c-02ee4bffb101"
      },
      "execution_count": null,
      "outputs": [
        {
          "output_type": "stream",
          "name": "stdout",
          "text": [
            "[[0.6888297  0.13215444 0.51892071 0.014402   0.59773829]\n",
            " [0.59581776 0.3879284  0.74342829 0.81694896 0.30050831]\n",
            " [0.22601392 0.84289432 0.87461127 0.5201508  0.20782241]\n",
            " [0.12567584 0.38724884 0.53435292 0.91730622 0.07149387]\n",
            " [0.33908439 0.14052953 0.22587479 0.48511662 0.92393258]]\n"
          ]
        }
      ]
    },
    {
      "cell_type": "markdown",
      "source": [
        "**Using np.random.randn function**\n",
        "\n",
        "\n",
        "*   The np.random.randn returns a random numpy array whose samples are drawn randomly from the standard normal distribution (Mean as 0 and standard deviation as1)\n",
        "*   **Syntax -** np.random.randn(d0,d1)\n",
        "*   d0,d1 - It represents the dimension of the output, where d1 is optional.\n",
        "\n",
        "\n",
        "\n"
      ],
      "metadata": {
        "id": "4qa_fbRU4A54"
      }
    },
    {
      "cell_type": "code",
      "source": [
        "# Generating random values in an array\n",
        "rand_mat2 = np.random.randn(5)\n",
        "print(rand_mat2)"
      ],
      "metadata": {
        "colab": {
          "base_uri": "https://localhost:8080/"
        },
        "id": "S6Y96jkE3wE-",
        "outputId": "e568eebe-d8e1-451a-c225-f8674b94c729"
      },
      "execution_count": null,
      "outputs": [
        {
          "output_type": "stream",
          "name": "stdout",
          "text": [
            "[-0.9470089  -1.70582687  0.79071789 -2.42633832  0.29849094]\n"
          ]
        }
      ]
    },
    {
      "cell_type": "code",
      "source": [
        "# Generating random values in a matrix\n",
        "rand_mat2 = np.random.randn(5,5)\n",
        "print(rand_mat2)"
      ],
      "metadata": {
        "colab": {
          "base_uri": "https://localhost:8080/"
        },
        "id": "n-iYvrYQ5QOr",
        "outputId": "d4f30e8e-6ddc-44af-ea29-f16e878c049f"
      },
      "execution_count": null,
      "outputs": [
        {
          "output_type": "stream",
          "name": "stdout",
          "text": [
            "[[-0.88153595 -2.1051843  -3.0737576  -1.08017793  0.72098952]\n",
            " [ 0.96313417  0.27205262  0.35305252  1.05392033 -0.45286813]\n",
            " [-3.04757748  0.07708321  0.34519914 -1.99853019 -0.25301357]\n",
            " [-0.88953719 -0.41293492 -1.11896195 -0.77769948 -1.0876253 ]\n",
            " [ 1.01163151 -0.48477245 -1.95339361 -0.76858754  0.89309513]]\n"
          ]
        }
      ]
    },
    {
      "cell_type": "code",
      "source": [
        "# Let's check the mean and standard deviation of rand_mat2\n",
        "print(\"Mean:\", np.mean(rand_mat2))\n",
        "print(\"Standard Deviation:\", np.std(rand_mat2))"
      ],
      "metadata": {
        "colab": {
          "base_uri": "https://localhost:8080/"
        },
        "id": "o_LB0KLq5hxo",
        "outputId": "14900098-3014-42cf-d436-b2a727bc9be5"
      },
      "execution_count": null,
      "outputs": [
        {
          "output_type": "stream",
          "name": "stdout",
          "text": [
            "Mean: -0.5878399779753591\n",
            "Standard Deviation: 1.167592559476986\n"
          ]
        }
      ]
    },
    {
      "cell_type": "markdown",
      "source": [
        "\n",
        "\n",
        "*   We observe mean is very close to 0 and Standard deviation is very close to 1\n",
        "\n"
      ],
      "metadata": {
        "id": "IEeDqpBa6Ej8"
      }
    },
    {
      "cell_type": "markdown",
      "source": [
        "**Using np.random.randint function**\n",
        "\n",
        "\n",
        "*   The np.random.randint returns a random numpy array whose element(s) are drawn randomly from low(inclusive) to the high(exclusive) range.\n",
        "*   **Syntax -** np.random.randint(low,high,size)\n",
        "*   low - It represents the lowest inclusive bound of the distribution from where the samples can be drawn.\n",
        "*   high - It represents the upper exclusive bound of the distribution from where the sample can be drawn.\n",
        "*   size - It represents the shape of the output\n",
        "\n",
        "\n",
        "\n",
        "\n",
        "\n"
      ],
      "metadata": {
        "id": "BVhQIj--6OV-"
      }
    },
    {
      "cell_type": "code",
      "source": [
        "#Generating random values in an array\n",
        "rand_mat3 = np.random.randint(1,5,10)\n",
        "print(rand_mat3)"
      ],
      "metadata": {
        "colab": {
          "base_uri": "https://localhost:8080/"
        },
        "id": "SBzRYwM05xKE",
        "outputId": "a3ef36fa-aedc-403e-e2f1-e522b21839fc"
      },
      "execution_count": null,
      "outputs": [
        {
          "output_type": "stream",
          "name": "stdout",
          "text": [
            "[4 1 4 2 4 2 3 1 4 2]\n"
          ]
        }
      ]
    },
    {
      "cell_type": "code",
      "source": [
        "# Generating random values in a matrix\n",
        "rand_mat3 = np.random.randint(1,10,[5,5])\n",
        "print(rand_mat3)"
      ],
      "metadata": {
        "colab": {
          "base_uri": "https://localhost:8080/"
        },
        "id": "9l_MxlLC7eW-",
        "outputId": "a80801d2-a232-4a07-fdca-9d1cf6f8b969"
      },
      "execution_count": null,
      "outputs": [
        {
          "output_type": "stream",
          "name": "stdout",
          "text": [
            "[[5 9 9 4 9]\n",
            " [6 1 3 1 4]\n",
            " [9 5 1 5 7]\n",
            " [5 7 5 4 4]\n",
            " [3 3 8 6 2]]\n"
          ]
        }
      ]
    },
    {
      "cell_type": "markdown",
      "source": [
        "## 2.3 Accessing the entries of a Numpy Array"
      ],
      "metadata": {
        "id": "OLcXwsNe8OMM"
      }
    },
    {
      "cell_type": "code",
      "source": [
        "#let's generate an array with 10 random values\n",
        "rand_arr = np.random.randn(10)\n",
        "print(rand_arr)"
      ],
      "metadata": {
        "colab": {
          "base_uri": "https://localhost:8080/"
        },
        "id": "zya4m1mc7m7s",
        "outputId": "264164ac-06cb-4319-a592-099a3af8387d"
      },
      "execution_count": null,
      "outputs": [
        {
          "output_type": "stream",
          "name": "stdout",
          "text": [
            "[ 2.46074685  0.53332206  0.05471114  0.25256692 -0.09816916  1.02062909\n",
            " -2.00377139  1.85055658 -0.52874951  1.43956171]\n"
          ]
        }
      ]
    },
    {
      "cell_type": "markdown",
      "source": [
        "\n",
        "\n",
        "*   Accessing one element from an array\n",
        "\n"
      ],
      "metadata": {
        "id": "LwliKdAu8vAC"
      }
    },
    {
      "cell_type": "code",
      "source": [
        "# accessing the 6th entry of rand_arr\n",
        "rand_arr[5]"
      ],
      "metadata": {
        "colab": {
          "base_uri": "https://localhost:8080/"
        },
        "id": "Iz35XMF28lJF",
        "outputId": "d502dfea-6700-49c5-8a13-adc4d7e6d965"
      },
      "execution_count": null,
      "outputs": [
        {
          "output_type": "execute_result",
          "data": {
            "text/plain": [
              "1.020629086322696"
            ]
          },
          "metadata": {},
          "execution_count": 83
        }
      ]
    },
    {
      "cell_type": "markdown",
      "source": [
        "\n",
        "\n",
        "*   Accessing multiple elements from an array\n",
        "\n"
      ],
      "metadata": {
        "id": "D8gYIoNJ9Mwj"
      }
    },
    {
      "cell_type": "code",
      "source": [
        "# We can access multiple entries at once using\n",
        "print(rand_arr[4:9])"
      ],
      "metadata": {
        "colab": {
          "base_uri": "https://localhost:8080/"
        },
        "id": "3jbbmQyi9Eha",
        "outputId": "e2827826-8a04-4dc5-bc2b-dc4afd6b0272"
      },
      "execution_count": null,
      "outputs": [
        {
          "output_type": "stream",
          "name": "stdout",
          "text": [
            "[-0.09816916  1.02062909 -2.00377139  1.85055658 -0.52874951]\n"
          ]
        }
      ]
    },
    {
      "cell_type": "code",
      "source": [
        "# We can also access multiple non-consecutive entries using np.arange\n",
        "print(\"Index of values to access: \", np.arange(3,10,3))\n",
        "print(rand_arr[np.arange(3,10,3)])"
      ],
      "metadata": {
        "colab": {
          "base_uri": "https://localhost:8080/"
        },
        "id": "tnQ91eH59msH",
        "outputId": "29637eaa-d072-4309-acb0-2d098f440fb2"
      },
      "execution_count": null,
      "outputs": [
        {
          "output_type": "stream",
          "name": "stdout",
          "text": [
            "Index of values to access:  [3 6 9]\n",
            "[ 0.25256692 -2.00377139  1.43956171]\n"
          ]
        }
      ]
    },
    {
      "cell_type": "markdown",
      "source": [
        "**Accessing arrays using logical operations**"
      ],
      "metadata": {
        "id": "G76LvjWs-PMT"
      }
    },
    {
      "cell_type": "code",
      "source": [
        "print(rand_arr)"
      ],
      "metadata": {
        "colab": {
          "base_uri": "https://localhost:8080/"
        },
        "id": "2TCdjq_M-D8H",
        "outputId": "a9cc7599-b29e-4332-cf09-8cdf4cc819cc"
      },
      "execution_count": null,
      "outputs": [
        {
          "output_type": "stream",
          "name": "stdout",
          "text": [
            "[ 2.46074685  0.53332206  0.05471114  0.25256692 -0.09816916  1.02062909\n",
            " -2.00377139  1.85055658 -0.52874951  1.43956171]\n"
          ]
        }
      ]
    },
    {
      "cell_type": "code",
      "source": [
        "rand_arr>0"
      ],
      "metadata": {
        "colab": {
          "base_uri": "https://localhost:8080/"
        },
        "id": "Q2iXvXBD-WHb",
        "outputId": "a5fdb249-8d31-4bf6-af7b-bb54f049e58d"
      },
      "execution_count": null,
      "outputs": [
        {
          "output_type": "execute_result",
          "data": {
            "text/plain": [
              "array([ True,  True,  True,  True, False,  True, False,  True, False,\n",
              "        True])"
            ]
          },
          "metadata": {},
          "execution_count": 88
        }
      ]
    },
    {
      "cell_type": "code",
      "source": [
        "# accessing all the values of rand_arr which are greater than 0\n",
        "print(\"Values greated than 0: \",rand_arr[rand_arr>0])\n",
        "\n",
        "# accessing all the values of rand_arr which are less than 0\n",
        "print(\"Values less than 0: \", rand_arr[rand_arr<0])"
      ],
      "metadata": {
        "colab": {
          "base_uri": "https://localhost:8080/"
        },
        "id": "6qrYswmc-YPB",
        "outputId": "20703c42-19a6-4a13-d642-42de91d2aa52"
      },
      "execution_count": null,
      "outputs": [
        {
          "output_type": "stream",
          "name": "stdout",
          "text": [
            "Values greated than 0:  [2.46074685 0.53332206 0.05471114 0.25256692 1.02062909 1.85055658\n",
            " 1.43956171]\n",
            "Values less than 0:  [-0.09816916 -2.00377139 -0.52874951]\n"
          ]
        }
      ]
    },
    {
      "cell_type": "markdown",
      "source": [
        "**Accessing the entries of a matrix**"
      ],
      "metadata": {
        "id": "mEdvPkui_GFV"
      }
    },
    {
      "cell_type": "code",
      "source": [
        "# let's generate an array with 10 random values\n",
        "rand_mat = np.random.randn(5,5)\n",
        "print(rand_mat)"
      ],
      "metadata": {
        "colab": {
          "base_uri": "https://localhost:8080/"
        },
        "id": "SQDcFgWb-von",
        "outputId": "a037d357-2afe-4b30-faf5-ffadd9397c35"
      },
      "execution_count": null,
      "outputs": [
        {
          "output_type": "stream",
          "name": "stdout",
          "text": [
            "[[-1.30756665  0.7464859   1.41019045 -0.61038992 -0.08331082]\n",
            " [ 0.92763063  0.07961133 -0.2473379   1.07305938  1.28269395]\n",
            " [ 0.24964236 -0.09316885 -0.14075728  1.40281252  0.77745414]\n",
            " [ 0.46254025  0.40471811  0.53196612 -0.80131424 -0.01527189]\n",
            " [-0.77270196 -0.99519871 -2.70085895  1.45649888 -0.18620778]]\n"
          ]
        }
      ]
    },
    {
      "cell_type": "code",
      "source": [
        "# accessing the second row of the rand_mat\n",
        "rand_mat[1]"
      ],
      "metadata": {
        "colab": {
          "base_uri": "https://localhost:8080/"
        },
        "id": "3fHEVB0j_aWM",
        "outputId": "6adc2f27-6bf2-4b34-ec9e-44e3d42e6bf4"
      },
      "execution_count": null,
      "outputs": [
        {
          "output_type": "execute_result",
          "data": {
            "text/plain": [
              "array([ 0.92763063,  0.07961133, -0.2473379 ,  1.07305938,  1.28269395])"
            ]
          },
          "metadata": {},
          "execution_count": 92
        }
      ]
    },
    {
      "cell_type": "code",
      "source": [
        "# accessing third element of the second row\n",
        "print(rand_mat[1][2])\n",
        "\n",
        "#or\n",
        "\n",
        "print(rand_mat[1,2])"
      ],
      "metadata": {
        "colab": {
          "base_uri": "https://localhost:8080/"
        },
        "id": "2lEe2qJQ_lIl",
        "outputId": "edf79667-2b96-4a9f-d386-6aae6bbba995"
      },
      "execution_count": null,
      "outputs": [
        {
          "output_type": "stream",
          "name": "stdout",
          "text": [
            "-0.2473378978243566\n",
            "-0.2473378978243566\n"
          ]
        }
      ]
    },
    {
      "cell_type": "code",
      "source": [
        "# accessing first two rows with second and third column\n",
        "print(rand_mat[0:2,1:3])"
      ],
      "metadata": {
        "colab": {
          "base_uri": "https://localhost:8080/"
        },
        "id": "Yy1QKDD6_1hL",
        "outputId": "a12e2622-25de-4514-80a4-112a02604d3e"
      },
      "execution_count": null,
      "outputs": [
        {
          "output_type": "stream",
          "name": "stdout",
          "text": [
            "[[ 0.7464859   1.41019045]\n",
            " [ 0.07961133 -0.2473379 ]]\n"
          ]
        }
      ]
    },
    {
      "cell_type": "markdown",
      "source": [
        "**Accessing matrices using logical operations**"
      ],
      "metadata": {
        "id": "bRnUoOXrAODa"
      }
    },
    {
      "cell_type": "code",
      "source": [
        "print(rand_mat)"
      ],
      "metadata": {
        "colab": {
          "base_uri": "https://localhost:8080/"
        },
        "id": "AoouM8lpAMe5",
        "outputId": "33b7185d-a586-4778-d007-13cd76920676"
      },
      "execution_count": null,
      "outputs": [
        {
          "output_type": "stream",
          "name": "stdout",
          "text": [
            "[[-1.30756665  0.7464859   1.41019045 -0.61038992 -0.08331082]\n",
            " [ 0.92763063  0.07961133 -0.2473379   1.07305938  1.28269395]\n",
            " [ 0.24964236 -0.09316885 -0.14075728  1.40281252  0.77745414]\n",
            " [ 0.46254025  0.40471811  0.53196612 -0.80131424 -0.01527189]\n",
            " [-0.77270196 -0.99519871 -2.70085895  1.45649888 -0.18620778]]\n"
          ]
        }
      ]
    },
    {
      "cell_type": "code",
      "source": [
        "# accessing all the values of rand_mat which are greater than 0\n",
        "print(\"Values greater than 0: \\n\", rand_mat[rand_mat>0])\n",
        "\n",
        "# accessing all the values of rand_mat which are lesser than 0\n",
        "print(\"Values lesser than 0: \\n\", rand_mat[rand_mat<0])"
      ],
      "metadata": {
        "colab": {
          "base_uri": "https://localhost:8080/"
        },
        "id": "153q8d9lAUaX",
        "outputId": "cec33a97-34a6-45da-9400-147c7f11a321"
      },
      "execution_count": null,
      "outputs": [
        {
          "output_type": "stream",
          "name": "stdout",
          "text": [
            "Values greater than 0: \n",
            " [0.7464859  1.41019045 0.92763063 0.07961133 1.07305938 1.28269395\n",
            " 0.24964236 1.40281252 0.77745414 0.46254025 0.40471811 0.53196612\n",
            " 1.45649888]\n",
            "Values lesser than 0: \n",
            " [-1.30756665 -0.61038992 -0.08331082 -0.2473379  -0.09316885 -0.14075728\n",
            " -0.80131424 -0.01527189 -0.77270196 -0.99519871 -2.70085895 -0.18620778]\n"
          ]
        }
      ]
    },
    {
      "cell_type": "markdown",
      "source": [
        "**Modifying the entries of an Array**"
      ],
      "metadata": {
        "id": "3Bw6L_ShBGnD"
      }
    },
    {
      "cell_type": "code",
      "source": [
        "print(rand_mat)"
      ],
      "metadata": {
        "colab": {
          "base_uri": "https://localhost:8080/"
        },
        "id": "seng3Fz5Ao7i",
        "outputId": "f9266910-51d9-49f4-c6c6-90094f5b9a20"
      },
      "execution_count": null,
      "outputs": [
        {
          "output_type": "stream",
          "name": "stdout",
          "text": [
            "[[-1.30756665  0.7464859   1.41019045 -0.61038992 -0.08331082]\n",
            " [ 0.92763063  0.07961133 -0.2473379   1.07305938  1.28269395]\n",
            " [ 0.24964236 -0.09316885 -0.14075728  1.40281252  0.77745414]\n",
            " [ 0.46254025  0.40471811  0.53196612 -0.80131424 -0.01527189]\n",
            " [-0.77270196 -0.99519871 -2.70085895  1.45649888 -0.18620778]]\n"
          ]
        }
      ]
    },
    {
      "cell_type": "code",
      "source": [
        "print(rand_arr)"
      ],
      "metadata": {
        "colab": {
          "base_uri": "https://localhost:8080/"
        },
        "id": "wDeZDDkeBNc8",
        "outputId": "d83a07c4-6af1-4cc9-b5f0-b5becf35c108"
      },
      "execution_count": null,
      "outputs": [
        {
          "output_type": "stream",
          "name": "stdout",
          "text": [
            "[ 2.46074685  0.53332206  0.05471114  0.25256692 -0.09816916  1.02062909\n",
            " -2.00377139  1.85055658 -0.52874951  1.43956171]\n"
          ]
        }
      ]
    },
    {
      "cell_type": "code",
      "source": [
        "# let's change some values in an array!\n",
        "# changing the values of index value 3 and index value 4 to 5\n",
        "\n",
        "rand_arr[3:5] = 5\n",
        "print(rand_arr)"
      ],
      "metadata": {
        "colab": {
          "base_uri": "https://localhost:8080/"
        },
        "id": "IJNmzlx4BQEU",
        "outputId": "06d08d7c-1596-42b7-93ff-c020807520a1"
      },
      "execution_count": null,
      "outputs": [
        {
          "output_type": "stream",
          "name": "stdout",
          "text": [
            "[ 2.46074685  0.53332206  0.05471114  5.          5.          1.02062909\n",
            " -2.00377139  1.85055658 -0.52874951  1.43956171]\n"
          ]
        }
      ]
    },
    {
      "cell_type": "code",
      "source": [
        "# changing the values of index value 0 and index value 1 to 2 and 3 respectively\n",
        "rand_arr[0:2] = [2,3]\n",
        "print(rand_arr)"
      ],
      "metadata": {
        "colab": {
          "base_uri": "https://localhost:8080/"
        },
        "id": "UGMTq7viBtnb",
        "outputId": "0d65966e-f9a8-48fd-d536-798bf0504c22"
      },
      "execution_count": null,
      "outputs": [
        {
          "output_type": "stream",
          "name": "stdout",
          "text": [
            "[ 2.          3.          0.05471114  5.          5.          1.02062909\n",
            " -2.00377139  1.85055658 -0.52874951  1.43956171]\n"
          ]
        }
      ]
    },
    {
      "cell_type": "code",
      "source": [
        "# modify entries using logical references\n",
        "rand_arr[rand_arr >0] = 65\n",
        "rand_arr"
      ],
      "metadata": {
        "colab": {
          "base_uri": "https://localhost:8080/"
        },
        "id": "-K7j8SpZCDE0",
        "outputId": "965a111a-4568-4470-8fda-4a7c58ad1904"
      },
      "execution_count": null,
      "outputs": [
        {
          "output_type": "execute_result",
          "data": {
            "text/plain": [
              "array([65.        , 65.        , 65.        , 65.        , 65.        ,\n",
              "       65.        , -2.00377139, 65.        , -0.52874951, 65.        ])"
            ]
          },
          "metadata": {},
          "execution_count": 104
        }
      ]
    },
    {
      "cell_type": "markdown",
      "source": [
        "**Modifying the entries of a Matrix**"
      ],
      "metadata": {
        "id": "ysuek52oCVx_"
      }
    },
    {
      "cell_type": "code",
      "source": [
        "print(rand_mat3)"
      ],
      "metadata": {
        "colab": {
          "base_uri": "https://localhost:8080/"
        },
        "id": "da19BC16CN_G",
        "outputId": "b1e1731b-1486-4e7d-fd7b-69609331c67d"
      },
      "execution_count": null,
      "outputs": [
        {
          "output_type": "stream",
          "name": "stdout",
          "text": [
            "[[5 9 9 4 9]\n",
            " [6 1 3 1 4]\n",
            " [9 5 1 5 7]\n",
            " [5 7 5 4 4]\n",
            " [3 3 8 6 2]]\n"
          ]
        }
      ]
    },
    {
      "cell_type": "code",
      "source": [
        "# changing the values of the 4th and 5th element of the second and third rows of the matrix to 0\n",
        "print(\"Matrix before modification: \\n\", rand_mat3)\n",
        "rand_mat3[1:3,3:5] = 0\n",
        "print(\"Matrix after modification: \\n\", rand_mat3)"
      ],
      "metadata": {
        "colab": {
          "base_uri": "https://localhost:8080/"
        },
        "id": "v7_HXs0_Ca0v",
        "outputId": "4d3dcc67-2f38-4df0-f1c1-485c27405132"
      },
      "execution_count": null,
      "outputs": [
        {
          "output_type": "stream",
          "name": "stdout",
          "text": [
            "Matrix before modification: \n",
            " [[5 9 9 4 9]\n",
            " [6 1 3 1 4]\n",
            " [9 5 1 5 7]\n",
            " [5 7 5 4 4]\n",
            " [3 3 8 6 2]]\n",
            "Matrix after modification: \n",
            " [[5 9 9 4 9]\n",
            " [6 1 3 0 0]\n",
            " [9 5 1 0 0]\n",
            " [5 7 5 4 4]\n",
            " [3 3 8 6 2]]\n"
          ]
        }
      ]
    },
    {
      "cell_type": "code",
      "source": [
        "# extracting the first 2 rows and first 3 columns from the matrix\n",
        "sub_mat = rand_mat[0:2,0:3]\n",
        "print(sub_mat)"
      ],
      "metadata": {
        "colab": {
          "base_uri": "https://localhost:8080/"
        },
        "id": "nxCqZ5UULyNg",
        "outputId": "fcec60f2-1f36-46c6-98da-840c967e05ac"
      },
      "execution_count": null,
      "outputs": [
        {
          "output_type": "stream",
          "name": "stdout",
          "text": [
            "[[-1.30756665  0.7464859   1.41019045]\n",
            " [ 0.92763063  0.07961133 -0.2473379 ]]\n"
          ]
        }
      ]
    },
    {
      "cell_type": "code",
      "source": [
        "# changing all the values of the extracted matrix to 3\n",
        "sub_mat[:] = 3\n",
        "print(sub_mat)"
      ],
      "metadata": {
        "colab": {
          "base_uri": "https://localhost:8080/"
        },
        "id": "wauDz6DjML7m",
        "outputId": "e2128632-5364-427c-ebee-57123cd6921a"
      },
      "execution_count": null,
      "outputs": [
        {
          "output_type": "stream",
          "name": "stdout",
          "text": [
            "[[3. 3. 3.]\n",
            " [3. 3. 3.]]\n"
          ]
        }
      ]
    },
    {
      "cell_type": "code",
      "source": [
        "#what happend to rand_mat when we change sub_mat\n",
        "print(rand_mat)"
      ],
      "metadata": {
        "colab": {
          "base_uri": "https://localhost:8080/"
        },
        "id": "lub5Bn41McFq",
        "outputId": "3748f64d-659e-4f49-a010-7dea9ad042f3"
      },
      "execution_count": null,
      "outputs": [
        {
          "output_type": "stream",
          "name": "stdout",
          "text": [
            "[[ 3.          3.          3.         -0.61038992 -0.08331082]\n",
            " [ 3.          3.          3.          1.07305938  1.28269395]\n",
            " [ 0.24964236 -0.09316885 -0.14075728  1.40281252  0.77745414]\n",
            " [ 0.46254025  0.40471811  0.53196612 -0.80131424 -0.01527189]\n",
            " [-0.77270196 -0.99519871 -2.70085895  1.45649888 -0.18620778]]\n"
          ]
        }
      ]
    },
    {
      "cell_type": "code",
      "source": [
        "# to prevent this behavior we need to use the .copy() method when we assign sub_mat\n",
        "# this behavior is the source of MANY errors for early python users!!!\n",
        "\n",
        "rand_mat = np.random.randn(5,5)\n",
        "print(rand_mat)\n",
        "print(\" \")\n",
        "rand_mat_int = np.random.randint(1,10,10).reshape((2,5))\n",
        "print(rand_mat_int)\n",
        "sub_mat = rand_mat[0:2,0:3].copy()\n",
        "print(sub_mat)\n",
        "sub_mat[:] = 3\n",
        "print(sub_mat)\n",
        "print(rand_mat)"
      ],
      "metadata": {
        "colab": {
          "base_uri": "https://localhost:8080/"
        },
        "id": "jiqdWCE0Ml09",
        "outputId": "4a5f25cc-9e11-40b0-b6b9-4e0b2e65018e"
      },
      "execution_count": null,
      "outputs": [
        {
          "output_type": "stream",
          "name": "stdout",
          "text": [
            "[[ 1.67401283 -0.91908533 -0.09670656 -0.50196762 -0.35249735]\n",
            " [-0.38676123  0.04278323 -1.20743354 -0.78990649 -1.32815847]\n",
            " [-0.41830577  0.16783965  0.46408052 -1.03244674  1.47594856]\n",
            " [-2.03849691 -0.52562626 -0.99849588  1.61491161 -0.66329306]\n",
            " [ 2.02123271 -1.51973168  0.49559223  0.03200765  0.60023688]]\n",
            " \n",
            "[[6 4 7 1 5]\n",
            " [5 8 6 9 9]]\n",
            "[[ 1.67401283 -0.91908533 -0.09670656]\n",
            " [-0.38676123  0.04278323 -1.20743354]]\n",
            "[[3. 3. 3.]\n",
            " [3. 3. 3.]]\n",
            "[[ 1.67401283 -0.91908533 -0.09670656 -0.50196762 -0.35249735]\n",
            " [-0.38676123  0.04278323 -1.20743354 -0.78990649 -1.32815847]\n",
            " [-0.41830577  0.16783965  0.46408052 -1.03244674  1.47594856]\n",
            " [-2.03849691 -0.52562626 -0.99849588  1.61491161 -0.66329306]\n",
            " [ 2.02123271 -1.51973168  0.49559223  0.03200765  0.60023688]]\n"
          ]
        }
      ]
    },
    {
      "cell_type": "markdown",
      "source": [
        "## 2.4 Saving and Loading a NumPy array\n",
        "\n",
        "### Lets save some NumPy objects on the disk for use later!"
      ],
      "metadata": {
        "id": "eYmTBLRwN399"
      }
    },
    {
      "cell_type": "code",
      "source": [
        "from google.colab import drive\n",
        "drive.mount(\"/content/drive\")"
      ],
      "metadata": {
        "colab": {
          "base_uri": "https://localhost:8080/"
        },
        "id": "s0gVHjHFM__O",
        "outputId": "c7d46e0d-e42a-4023-d673-4a3e99bfa540"
      },
      "execution_count": null,
      "outputs": [
        {
          "output_type": "stream",
          "name": "stdout",
          "text": [
            "Mounted at /content/drive\n"
          ]
        }
      ]
    },
    {
      "cell_type": "code",
      "source": [
        "# creating a random matrices\n",
        "randint_matrix1 = np.random.randint(1,10,10).reshape((2,5))\n",
        "print(randint_matrix1)\n",
        "print(\" \")\n",
        "randint_matrix2 = np.random.randint(10,20,10).reshape((2,5))\n",
        "print(randint_matrix2)"
      ],
      "metadata": {
        "colab": {
          "base_uri": "https://localhost:8080/"
        },
        "id": "2IP_paTYObDT",
        "outputId": "1c23dd5d-9e37-4521-d37a-b0b4a9274781"
      },
      "execution_count": null,
      "outputs": [
        {
          "output_type": "stream",
          "name": "stdout",
          "text": [
            "[[9 9 8 6 5]\n",
            " [3 6 3 9 7]]\n",
            " \n",
            "[[15 13 12 13 17]\n",
            " [10 13 13 10 10]]\n"
          ]
        }
      ]
    },
    {
      "cell_type": "markdown",
      "source": [
        "**Using np.save() function**"
      ],
      "metadata": {
        "id": "aClpkH-GPZJ_"
      }
    },
    {
      "cell_type": "code",
      "source": [
        "np.save(\"/content/drive/MyDrive/MDS_2/saved_file_name\", randint_matrix1)"
      ],
      "metadata": {
        "id": "hvppdWi5PHgS"
      },
      "execution_count": null,
      "outputs": []
    },
    {
      "cell_type": "markdown",
      "source": [
        "**Using np.savez() function**"
      ],
      "metadata": {
        "id": "_OSb1GJjP8Bs"
      }
    },
    {
      "cell_type": "code",
      "source": [
        "np.savez(\"/content/drive/MyDrive/MDS_2/multiple_files\", randint_matrix1=randint_matrix1, randint_matrix2=randint_matrix2)"
      ],
      "metadata": {
        "id": "rnrZh-8nPv5Z"
      },
      "execution_count": null,
      "outputs": []
    },
    {
      "cell_type": "markdown",
      "source": [
        "\n",
        "\n",
        "*   The files will be saved in the directory where the Jupyter Notebook is located.\n",
        "*   With np.save() function, we can save an array/matrix to a NumPy .npy format\n",
        "*   np.savez() function has an advantage over np.save() function because with np.savez(), we can store several arrays/matrices into a single file in uncompressed .npz format.\n",
        "\n",
        "\n",
        "\n"
      ],
      "metadata": {
        "id": "0F-igGIJQm2h"
      }
    },
    {
      "cell_type": "code",
      "source": [
        "# now let's load it\n",
        "loaded_arr = np.load(\"/content/drive/MyDrive/MDS_2/saved_file_name.npy\")\n",
        "loaded_multi = np.load(\"/content/drive/MyDrive/MDS_2/multiple_files.npz\")\n",
        "\n",
        "print(loaded_arr)\n",
        "print(\"\")\n",
        "print(loaded_multi)"
      ],
      "metadata": {
        "colab": {
          "base_uri": "https://localhost:8080/"
        },
        "id": "byggX6LRQUck",
        "outputId": "0a7e76b4-f48d-4851-b6dd-cacac9b466eb"
      },
      "execution_count": null,
      "outputs": [
        {
          "output_type": "stream",
          "name": "stdout",
          "text": [
            "[[9 9 8 6 5]\n",
            " [3 6 3 9 7]]\n",
            "\n",
            "<numpy.lib.npyio.NpzFile object at 0x7acab59c84f0>\n"
          ]
        }
      ]
    },
    {
      "cell_type": "code",
      "source": [
        "print(\"1st Matrix: \\n\", loaded_multi['randint_matrix1'])\n",
        "print(\"2nd Matrix: \\n\", loaded_multi['randint_matrix2'])\n",
        "\n",
        "new_matrix = loaded_multi['randint_matrix1']\n",
        "print(\"New Matrix: \\n\", new_matrix)"
      ],
      "metadata": {
        "colab": {
          "base_uri": "https://localhost:8080/"
        },
        "id": "wGvZapTASUMO",
        "outputId": "aa44d33e-9efb-4dbc-aa84-7be33a579407"
      },
      "execution_count": null,
      "outputs": [
        {
          "output_type": "stream",
          "name": "stdout",
          "text": [
            "1st Matrix: \n",
            " [[9 9 8 6 5]\n",
            " [3 6 3 9 7]]\n",
            "2nd Matrix: \n",
            " [[15 13 12 13 17]\n",
            " [10 13 13 10 10]]\n",
            "New Matrix: \n",
            " [[9 9 8 6 5]\n",
            " [3 6 3 9 7]]\n"
          ]
        }
      ]
    },
    {
      "cell_type": "code",
      "source": [
        "# We can also save/load text files...but only single variables\n",
        "np.savetxt(\"/content/drive/MyDrive/MDS_2/text_file_name.txt\", randint_matrix1, delimiter=',')\n",
        "rand_mat_txt = np.loadtxt(\"/content/drive/MyDrive/MDS_2/text_file_name.txt\", delimiter=',')\n",
        "print(randint_matrix1)\n",
        "print('')\n",
        "print(rand_mat_txt)"
      ],
      "metadata": {
        "colab": {
          "base_uri": "https://localhost:8080/"
        },
        "id": "phFErDXLSvpA",
        "outputId": "b9a97451-16e3-4ac9-ec48-7aa0fdc4326b"
      },
      "execution_count": null,
      "outputs": [
        {
          "output_type": "stream",
          "name": "stdout",
          "text": [
            "[[9 9 8 6 5]\n",
            " [3 6 3 9 7]]\n",
            "\n",
            "[[9. 9. 8. 6. 5.]\n",
            " [3. 6. 3. 9. 7.]]\n"
          ]
        }
      ]
    },
    {
      "cell_type": "code",
      "source": [
        "test_array = [10, 11.5, 12, 13.5, 14,15]\n",
        "test_array[2:3]"
      ],
      "metadata": {
        "colab": {
          "base_uri": "https://localhost:8080/"
        },
        "id": "s_viNNxWTl5B",
        "outputId": "fb645bf8-86fb-419e-e9ee-0ef5fe2da3bd"
      },
      "execution_count": null,
      "outputs": [
        {
          "output_type": "execute_result",
          "data": {
            "text/plain": [
              "[12]"
            ]
          },
          "metadata": {},
          "execution_count": 1
        }
      ]
    },
    {
      "cell_type": "code",
      "source": [
        "import numpy as np\n",
        "list_l =[[12,34,55,],[66,45,77],[45,77,88]]\n",
        "np.array(list_l)"
      ],
      "metadata": {
        "colab": {
          "base_uri": "https://localhost:8080/"
        },
        "id": "QEPaQe_kClsw",
        "outputId": "295fa6e8-08d4-4f08-8973-d368ac75f5f0"
      },
      "execution_count": null,
      "outputs": [
        {
          "output_type": "execute_result",
          "data": {
            "text/plain": [
              "array([[12, 34, 55],\n",
              "       [66, 45, 77],\n",
              "       [45, 77, 88]])"
            ]
          },
          "metadata": {},
          "execution_count": 3
        }
      ]
    },
    {
      "cell_type": "code",
      "source": [
        "import pandas as pd\n",
        "score = [10, 15, 20, 25]\n",
        "pd.Series(data=score, index = ['a','b','c','d'])"
      ],
      "metadata": {
        "colab": {
          "base_uri": "https://localhost:8080/"
        },
        "id": "T1v1dqhwCzUx",
        "outputId": "2c280c1a-fd78-4bcc-8be1-1b49ccc9f060"
      },
      "execution_count": null,
      "outputs": [
        {
          "output_type": "execute_result",
          "data": {
            "text/plain": [
              "a    10\n",
              "b    15\n",
              "c    20\n",
              "d    25\n",
              "dtype: int64"
            ]
          },
          "metadata": {},
          "execution_count": 4
        }
      ]
    },
    {
      "cell_type": "code",
      "source": [
        "np.arange(0,22,6)"
      ],
      "metadata": {
        "colab": {
          "base_uri": "https://localhost:8080/"
        },
        "id": "DsVUdZMIDS6S",
        "outputId": "68726f00-1d9e-45f6-fbfa-05af676a9c30"
      },
      "execution_count": null,
      "outputs": [
        {
          "output_type": "execute_result",
          "data": {
            "text/plain": [
              "array([ 0,  6, 12, 18])"
            ]
          },
          "metadata": {},
          "execution_count": 5
        }
      ]
    },
    {
      "cell_type": "code",
      "source": [
        "demo_array = np.arange(10,21)\n",
        "subset_demo_array = demo_array[0:7]\n",
        "subset_demo_array[:]= 101\n",
        "subset_demo_array"
      ],
      "metadata": {
        "colab": {
          "base_uri": "https://localhost:8080/"
        },
        "id": "wYICit0LDibC",
        "outputId": "051416cd-bae3-4652-d2c6-c9acc86be6bd"
      },
      "execution_count": null,
      "outputs": [
        {
          "output_type": "execute_result",
          "data": {
            "text/plain": [
              "array([101, 101, 101, 101, 101, 101, 101])"
            ]
          },
          "metadata": {},
          "execution_count": 6
        }
      ]
    },
    {
      "cell_type": "code",
      "source": [
        "flowers = pd.Series([2, 3, 5, 4], index=['lily', 'rose', 'daisy', 'lotus'])\n",
        "flowers['daisy']"
      ],
      "metadata": {
        "colab": {
          "base_uri": "https://localhost:8080/"
        },
        "id": "qlTj8epLDuC7",
        "outputId": "aec5548f-ab66-4a63-a531-605e82302bfe"
      },
      "execution_count": null,
      "outputs": [
        {
          "output_type": "execute_result",
          "data": {
            "text/plain": [
              "5"
            ]
          },
          "metadata": {},
          "execution_count": 7
        }
      ]
    },
    {
      "cell_type": "code",
      "source": [
        "s1 = pd.Series(['a', 'b'])\n",
        "s2 = pd.Series(['c', 'd'])"
      ],
      "metadata": {
        "id": "Si2StoEWDzvL"
      },
      "execution_count": null,
      "outputs": []
    },
    {
      "cell_type": "code",
      "source": [
        "pd.concat([s1, s2])\n"
      ],
      "metadata": {
        "colab": {
          "base_uri": "https://localhost:8080/"
        },
        "id": "deYUJ1DEEM26",
        "outputId": "ed1db57f-ddae-42cc-b047-73bc07f3f411"
      },
      "execution_count": null,
      "outputs": [
        {
          "output_type": "execute_result",
          "data": {
            "text/plain": [
              "0    a\n",
              "1    b\n",
              "0    c\n",
              "1    d\n",
              "dtype: object"
            ]
          },
          "metadata": {},
          "execution_count": 9
        }
      ]
    },
    {
      "cell_type": "code",
      "source": [
        "football = [1,2,3,4,5]\n",
        "np.array(football)"
      ],
      "metadata": {
        "colab": {
          "base_uri": "https://localhost:8080/"
        },
        "id": "i51T4KgeEP7k",
        "outputId": "8c0f7c11-6530-4ac1-e86e-fcdbb18c8565"
      },
      "execution_count": null,
      "outputs": [
        {
          "output_type": "execute_result",
          "data": {
            "text/plain": [
              "array([1, 2, 3, 4, 5])"
            ]
          },
          "metadata": {},
          "execution_count": 10
        }
      ]
    },
    {
      "cell_type": "code",
      "source": [],
      "metadata": {
        "id": "dduyYFJFEf_1"
      },
      "execution_count": null,
      "outputs": []
    }
  ]
}