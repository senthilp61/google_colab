{
  "nbformat": 4,
  "nbformat_minor": 0,
  "metadata": {
    "colab": {
      "provenance": [],
      "authorship_tag": "ABX9TyMmSz0xi/9f6riuQ8PuPhhg",
      "include_colab_link": true
    },
    "kernelspec": {
      "name": "python3",
      "display_name": "Python 3"
    },
    "language_info": {
      "name": "python"
    }
  },
  "cells": [
    {
      "cell_type": "markdown",
      "metadata": {
        "id": "view-in-github",
        "colab_type": "text"
      },
      "source": [
        "<a href=\"https://colab.research.google.com/github/senthilp61/google_colab/blob/main/Basic_Mathematical_functions.ipynb\" target=\"_parent\"><img src=\"https://colab.research.google.com/assets/colab-badge.svg\" alt=\"Open In Colab\"/></a>"
      ]
    },
    {
      "cell_type": "code",
      "source": [
        "import numpy as np\n",
        "import pandas as pd"
      ],
      "metadata": {
        "id": "mG0xaDCEzL2X"
      },
      "execution_count": 2,
      "outputs": []
    },
    {
      "cell_type": "markdown",
      "source": [
        "## Some basic mathematical functions\n",
        "\n",
        "**Logarithmic Functions**\n",
        "\n",
        "\n",
        "*   Logarithm with base 10 (log**10**)\n",
        "*   Logarithm with base e (log**e**)\n",
        "*   Logarithm with base 2 (log**2**)\n",
        "\n",
        "**Exponential Function:**\n",
        "\n",
        "\n",
        "*   By definition, exponential function(i.e exp(x)) is the inverse function of natural logarithmic function (i.e. log**e**)\n",
        "*   For example, exp(2) = e^2 = 7.389 where e ~ 2.718\n",
        "\n",
        "**Trignometric Functions:**\n",
        "\n",
        "\n",
        "*   In trignometry, sin, cos and tan are the basic trignometric ratios used to study the relationship between the angles and sides of a right-angled triagle (hypotenuse).\n",
        "\n",
        "**Mathematical Functions        NumPy Functions**\n",
        "\n",
        "log10(x)                             numpy.log10()\n",
        "\n",
        "loge(x)                              numpy.log()\n",
        "\n",
        "log2(x)                              numpy.log2()\n",
        "\n",
        "exp(x)                               numpy.exp()\n",
        "\n",
        "sin(x)                               numpy.sin()\n",
        "\n",
        "cos(x)                               numpy.cos()\n",
        "\n",
        "tan(x)                               numpy.tan()\n",
        "\n",
        "\n",
        "\n",
        "\n",
        "\n",
        "\n",
        "\n"
      ],
      "metadata": {
        "id": "9ZfsDv9Yv0dN"
      }
    },
    {
      "cell_type": "markdown",
      "source": [
        "**Trignometric functions**"
      ],
      "metadata": {
        "id": "RyLUnsI3ywUj"
      }
    },
    {
      "cell_type": "code",
      "execution_count": 3,
      "metadata": {
        "colab": {
          "base_uri": "https://localhost:8080/"
        },
        "id": "MnxAlbRlvucz",
        "outputId": "1eee7af0-9ccf-481a-d5f8-1636b8c9e8df"
      },
      "outputs": [
        {
          "output_type": "stream",
          "name": "stdout",
          "text": [
            "Sine Function:  -0.7568024953079282\n",
            "Cosine Function:  -0.6536436208636119\n",
            "Tan Function:  1.1578212823495775\n"
          ]
        }
      ],
      "source": [
        "print(\"Sine Function: \", np.sin(4))\n",
        "print(\"Cosine Function: \", np.cos(4))\n",
        "print(\"Tan Function: \", np.tan(4))"
      ]
    },
    {
      "cell_type": "code",
      "source": [
        "arr4 = np.arange(0,10)\n",
        "arr4"
      ],
      "metadata": {
        "colab": {
          "base_uri": "https://localhost:8080/"
        },
        "id": "MrmFi9Y7zVYK",
        "outputId": "f3e47984-2ec9-4145-bf0c-3a57d4d6e022"
      },
      "execution_count": 6,
      "outputs": [
        {
          "output_type": "execute_result",
          "data": {
            "text/plain": [
              "array([0, 1, 2, 3, 4, 5, 6, 7, 8, 9])"
            ]
          },
          "metadata": {},
          "execution_count": 6
        }
      ]
    },
    {
      "cell_type": "code",
      "source": [
        "print(\"Sine Function: \", np.sin(arr4))\n",
        "print(\"Cosine Function: \", np.cos(arr4))\n",
        "print(\"Tan Function: \", np.tan(arr4))"
      ],
      "metadata": {
        "colab": {
          "base_uri": "https://localhost:8080/"
        },
        "id": "fZYeHP9Czi49",
        "outputId": "ec40fe37-d5af-4607-9df1-da0611adac24"
      },
      "execution_count": 7,
      "outputs": [
        {
          "output_type": "stream",
          "name": "stdout",
          "text": [
            "Sine Function:  [ 0.          0.84147098  0.90929743  0.14112001 -0.7568025  -0.95892427\n",
            " -0.2794155   0.6569866   0.98935825  0.41211849]\n",
            "Cosine Function:  [ 1.          0.54030231 -0.41614684 -0.9899925  -0.65364362  0.28366219\n",
            "  0.96017029  0.75390225 -0.14550003 -0.91113026]\n",
            "Tan Function:  [ 0.          1.55740772 -2.18503986 -0.14254654  1.15782128 -3.38051501\n",
            " -0.29100619  0.87144798 -6.79971146 -0.45231566]\n"
          ]
        }
      ]
    },
    {
      "cell_type": "markdown",
      "source": [
        "**Exponents and Logarithmic functions**\n",
        "*   Exponents\n",
        "\n"
      ],
      "metadata": {
        "id": "mHFxeGJVvzZE"
      }
    },
    {
      "cell_type": "code",
      "source": [
        "np.exp(2)"
      ],
      "metadata": {
        "colab": {
          "base_uri": "https://localhost:8080/"
        },
        "id": "FczDt6wv0IJ1",
        "outputId": "7872d838-2981-41d8-92d0-eb3c375e9a91"
      },
      "execution_count": 8,
      "outputs": [
        {
          "output_type": "execute_result",
          "data": {
            "text/plain": [
              "7.38905609893065"
            ]
          },
          "metadata": {},
          "execution_count": 8
        }
      ]
    },
    {
      "cell_type": "code",
      "source": [
        "arr5 = np.array([2, 4, 6])\n",
        "np.exp(arr5)"
      ],
      "metadata": {
        "colab": {
          "base_uri": "https://localhost:8080/"
        },
        "id": "-j9jYfZd0J4J",
        "outputId": "024991f2-31b9-43c2-e508-f33e84e0e8c1"
      },
      "execution_count": 9,
      "outputs": [
        {
          "output_type": "execute_result",
          "data": {
            "text/plain": [
              "array([  7.3890561 ,  54.59815003, 403.42879349])"
            ]
          },
          "metadata": {},
          "execution_count": 9
        }
      ]
    },
    {
      "cell_type": "markdown",
      "source": [
        "*   Logarithms\n",
        "\n"
      ],
      "metadata": {
        "id": "ja3n04v50Xzh"
      }
    },
    {
      "cell_type": "code",
      "source": [
        "# by default numpy takes the base of log as e\n",
        "np.log(2)"
      ],
      "metadata": {
        "colab": {
          "base_uri": "https://localhost:8080/"
        },
        "id": "ouB0pLno0Rcr",
        "outputId": "610672e0-1ca3-418b-f4f0-d87528cc777d"
      },
      "execution_count": 10,
      "outputs": [
        {
          "output_type": "execute_result",
          "data": {
            "text/plain": [
              "0.6931471805599453"
            ]
          },
          "metadata": {},
          "execution_count": 10
        }
      ]
    },
    {
      "cell_type": "code",
      "source": [
        "np.log(arr5)"
      ],
      "metadata": {
        "colab": {
          "base_uri": "https://localhost:8080/"
        },
        "id": "JSZzG2pL0mS7",
        "outputId": "d058881a-cee4-4bb9-aaee-27ea6d49bb2f"
      },
      "execution_count": 11,
      "outputs": [
        {
          "output_type": "execute_result",
          "data": {
            "text/plain": [
              "array([0.69314718, 1.38629436, 1.79175947])"
            ]
          },
          "metadata": {},
          "execution_count": 11
        }
      ]
    },
    {
      "cell_type": "code",
      "source": [
        "# log with base 10\n",
        "np.log10(5)"
      ],
      "metadata": {
        "colab": {
          "base_uri": "https://localhost:8080/"
        },
        "id": "ukx2GmRE0qjl",
        "outputId": "fc9010c7-5ea8-4cfe-8fde-9f65ed69d8a4"
      },
      "execution_count": 12,
      "outputs": [
        {
          "output_type": "execute_result",
          "data": {
            "text/plain": [
              "0.6989700043360189"
            ]
          },
          "metadata": {},
          "execution_count": 12
        }
      ]
    },
    {
      "cell_type": "code",
      "source": [
        "# log with base 2\n",
        "np.log2(10)"
      ],
      "metadata": {
        "colab": {
          "base_uri": "https://localhost:8080/"
        },
        "id": "FKL3FaXD0yS3",
        "outputId": "5fdefd2b-d4bd-42d8-d602-196e185501b9"
      },
      "execution_count": 15,
      "outputs": [
        {
          "output_type": "execute_result",
          "data": {
            "text/plain": [
              "3.321928094887362"
            ]
          },
          "metadata": {},
          "execution_count": 15
        }
      ]
    },
    {
      "cell_type": "code",
      "source": [],
      "metadata": {
        "id": "mFBClZEN1DSe"
      },
      "execution_count": null,
      "outputs": []
    }
  ]
}